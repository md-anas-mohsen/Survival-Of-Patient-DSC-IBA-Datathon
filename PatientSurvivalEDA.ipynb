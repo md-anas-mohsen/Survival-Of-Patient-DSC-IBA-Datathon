{
 "cells": [
  {
   "cell_type": "markdown",
   "metadata": {},
   "source": [
    "## Importing Libraries"
   ]
  },
  {
   "cell_type": "code",
   "execution_count": 1,
   "metadata": {},
   "outputs": [],
   "source": [
    "import pandas as pd\n",
    "import numpy as np\n",
    "import matplotlib.pyplot as plt\n",
    "import seaborn as sns\n",
    "%matplotlib inline"
   ]
  },
  {
   "cell_type": "markdown",
   "metadata": {},
   "source": [
    "## The Dataset"
   ]
  },
  {
   "cell_type": "code",
   "execution_count": 2,
   "metadata": {},
   "outputs": [],
   "source": [
    "train = pd.read_csv(\"train.csv\")"
   ]
  },
  {
   "cell_type": "code",
   "execution_count": 3,
   "metadata": {},
   "outputs": [
    {
     "data": {
      "text/html": [
       "<div>\n",
       "<style scoped>\n",
       "    .dataframe tbody tr th:only-of-type {\n",
       "        vertical-align: middle;\n",
       "    }\n",
       "\n",
       "    .dataframe tbody tr th {\n",
       "        vertical-align: top;\n",
       "    }\n",
       "\n",
       "    .dataframe thead th {\n",
       "        text-align: right;\n",
       "    }\n",
       "</style>\n",
       "<table border=\"1\" class=\"dataframe\">\n",
       "  <thead>\n",
       "    <tr style=\"text-align: right;\">\n",
       "      <th></th>\n",
       "      <th>ID_Patient_Care_Situation</th>\n",
       "      <th>Diagnosed_Condition</th>\n",
       "      <th>Patient_ID</th>\n",
       "      <th>Treated_with_drugs</th>\n",
       "      <th>Patient_Age</th>\n",
       "      <th>Patient_Body_Mass_Index</th>\n",
       "      <th>Patient_Smoker</th>\n",
       "      <th>Patient_Rural_Urban</th>\n",
       "      <th>Patient_mental_condition</th>\n",
       "      <th>A</th>\n",
       "      <th>B</th>\n",
       "      <th>C</th>\n",
       "      <th>D</th>\n",
       "      <th>E</th>\n",
       "      <th>F</th>\n",
       "      <th>Z</th>\n",
       "      <th>Number_of_prev_cond</th>\n",
       "      <th>Survived_1_year</th>\n",
       "    </tr>\n",
       "  </thead>\n",
       "  <tbody>\n",
       "    <tr>\n",
       "      <th>0</th>\n",
       "      <td>21388</td>\n",
       "      <td>6</td>\n",
       "      <td>10452</td>\n",
       "      <td>DX1 DX4</td>\n",
       "      <td>23</td>\n",
       "      <td>19.199662</td>\n",
       "      <td>YES</td>\n",
       "      <td>RURAL</td>\n",
       "      <td>Stable</td>\n",
       "      <td>0.0</td>\n",
       "      <td>0.0</td>\n",
       "      <td>0.0</td>\n",
       "      <td>0.0</td>\n",
       "      <td>1.0</td>\n",
       "      <td>0.0</td>\n",
       "      <td>0.0</td>\n",
       "      <td>1.0</td>\n",
       "      <td>1</td>\n",
       "    </tr>\n",
       "    <tr>\n",
       "      <th>1</th>\n",
       "      <td>1990</td>\n",
       "      <td>10</td>\n",
       "      <td>5807</td>\n",
       "      <td>DX1 DX5</td>\n",
       "      <td>65</td>\n",
       "      <td>18.354031</td>\n",
       "      <td>YES</td>\n",
       "      <td>URBAN</td>\n",
       "      <td>Stable</td>\n",
       "      <td>0.0</td>\n",
       "      <td>1.0</td>\n",
       "      <td>0.0</td>\n",
       "      <td>0.0</td>\n",
       "      <td>1.0</td>\n",
       "      <td>0.0</td>\n",
       "      <td>0.0</td>\n",
       "      <td>2.0</td>\n",
       "      <td>0</td>\n",
       "    </tr>\n",
       "    <tr>\n",
       "      <th>2</th>\n",
       "      <td>16710</td>\n",
       "      <td>43</td>\n",
       "      <td>11802</td>\n",
       "      <td>DX6</td>\n",
       "      <td>2</td>\n",
       "      <td>24.732770</td>\n",
       "      <td>NO</td>\n",
       "      <td>RURAL</td>\n",
       "      <td>Stable</td>\n",
       "      <td>1.0</td>\n",
       "      <td>0.0</td>\n",
       "      <td>0.0</td>\n",
       "      <td>0.0</td>\n",
       "      <td>0.0</td>\n",
       "      <td>0.0</td>\n",
       "      <td>0.0</td>\n",
       "      <td>1.0</td>\n",
       "      <td>0</td>\n",
       "    </tr>\n",
       "    <tr>\n",
       "      <th>3</th>\n",
       "      <td>29293</td>\n",
       "      <td>32</td>\n",
       "      <td>6863</td>\n",
       "      <td>DX2 DX3</td>\n",
       "      <td>57</td>\n",
       "      <td>22.204759</td>\n",
       "      <td>NO</td>\n",
       "      <td>URBAN</td>\n",
       "      <td>Stable</td>\n",
       "      <td>1.0</td>\n",
       "      <td>1.0</td>\n",
       "      <td>0.0</td>\n",
       "      <td>1.0</td>\n",
       "      <td>0.0</td>\n",
       "      <td>0.0</td>\n",
       "      <td>0.0</td>\n",
       "      <td>3.0</td>\n",
       "      <td>1</td>\n",
       "    </tr>\n",
       "    <tr>\n",
       "      <th>4</th>\n",
       "      <td>24007</td>\n",
       "      <td>14</td>\n",
       "      <td>1495</td>\n",
       "      <td>DX6</td>\n",
       "      <td>66</td>\n",
       "      <td>23.883381</td>\n",
       "      <td>YES</td>\n",
       "      <td>RURAL</td>\n",
       "      <td>Stable</td>\n",
       "      <td>1.0</td>\n",
       "      <td>0.0</td>\n",
       "      <td>0.0</td>\n",
       "      <td>0.0</td>\n",
       "      <td>0.0</td>\n",
       "      <td>0.0</td>\n",
       "      <td>0.0</td>\n",
       "      <td>1.0</td>\n",
       "      <td>0</td>\n",
       "    </tr>\n",
       "    <tr>\n",
       "      <th>...</th>\n",
       "      <td>...</td>\n",
       "      <td>...</td>\n",
       "      <td>...</td>\n",
       "      <td>...</td>\n",
       "      <td>...</td>\n",
       "      <td>...</td>\n",
       "      <td>...</td>\n",
       "      <td>...</td>\n",
       "      <td>...</td>\n",
       "      <td>...</td>\n",
       "      <td>...</td>\n",
       "      <td>...</td>\n",
       "      <td>...</td>\n",
       "      <td>...</td>\n",
       "      <td>...</td>\n",
       "      <td>...</td>\n",
       "      <td>...</td>\n",
       "      <td>...</td>\n",
       "    </tr>\n",
       "    <tr>\n",
       "      <th>18472</th>\n",
       "      <td>22176</td>\n",
       "      <td>45</td>\n",
       "      <td>4759</td>\n",
       "      <td>DX2 DX3</td>\n",
       "      <td>65</td>\n",
       "      <td>24.155042</td>\n",
       "      <td>NO</td>\n",
       "      <td>RURAL</td>\n",
       "      <td>Stable</td>\n",
       "      <td>1.0</td>\n",
       "      <td>0.0</td>\n",
       "      <td>0.0</td>\n",
       "      <td>0.0</td>\n",
       "      <td>0.0</td>\n",
       "      <td>0.0</td>\n",
       "      <td>0.0</td>\n",
       "      <td>1.0</td>\n",
       "      <td>1</td>\n",
       "    </tr>\n",
       "    <tr>\n",
       "      <th>18473</th>\n",
       "      <td>9834</td>\n",
       "      <td>36</td>\n",
       "      <td>8294</td>\n",
       "      <td>DX6</td>\n",
       "      <td>41</td>\n",
       "      <td>29.557805</td>\n",
       "      <td>YES</td>\n",
       "      <td>RURAL</td>\n",
       "      <td>Stable</td>\n",
       "      <td>1.0</td>\n",
       "      <td>1.0</td>\n",
       "      <td>0.0</td>\n",
       "      <td>0.0</td>\n",
       "      <td>0.0</td>\n",
       "      <td>0.0</td>\n",
       "      <td>0.0</td>\n",
       "      <td>2.0</td>\n",
       "      <td>1</td>\n",
       "    </tr>\n",
       "    <tr>\n",
       "      <th>18474</th>\n",
       "      <td>23932</td>\n",
       "      <td>44</td>\n",
       "      <td>2107</td>\n",
       "      <td>DX4</td>\n",
       "      <td>48</td>\n",
       "      <td>25.242448</td>\n",
       "      <td>YES</td>\n",
       "      <td>RURAL</td>\n",
       "      <td>Stable</td>\n",
       "      <td>1.0</td>\n",
       "      <td>0.0</td>\n",
       "      <td>1.0</td>\n",
       "      <td>0.0</td>\n",
       "      <td>1.0</td>\n",
       "      <td>0.0</td>\n",
       "      <td>0.0</td>\n",
       "      <td>3.0</td>\n",
       "      <td>1</td>\n",
       "    </tr>\n",
       "    <tr>\n",
       "      <th>18475</th>\n",
       "      <td>24076</td>\n",
       "      <td>45</td>\n",
       "      <td>6016</td>\n",
       "      <td>DX3</td>\n",
       "      <td>47</td>\n",
       "      <td>29.921929</td>\n",
       "      <td>YES</td>\n",
       "      <td>RURAL</td>\n",
       "      <td>Stable</td>\n",
       "      <td>1.0</td>\n",
       "      <td>0.0</td>\n",
       "      <td>0.0</td>\n",
       "      <td>1.0</td>\n",
       "      <td>1.0</td>\n",
       "      <td>0.0</td>\n",
       "      <td>0.0</td>\n",
       "      <td>3.0</td>\n",
       "      <td>0</td>\n",
       "    </tr>\n",
       "    <tr>\n",
       "      <th>18476</th>\n",
       "      <td>24554</td>\n",
       "      <td>13</td>\n",
       "      <td>9914</td>\n",
       "      <td>DX3</td>\n",
       "      <td>47</td>\n",
       "      <td>19.603383</td>\n",
       "      <td>NO</td>\n",
       "      <td>RURAL</td>\n",
       "      <td>Stable</td>\n",
       "      <td>NaN</td>\n",
       "      <td>NaN</td>\n",
       "      <td>NaN</td>\n",
       "      <td>NaN</td>\n",
       "      <td>NaN</td>\n",
       "      <td>NaN</td>\n",
       "      <td>NaN</td>\n",
       "      <td>NaN</td>\n",
       "      <td>1</td>\n",
       "    </tr>\n",
       "  </tbody>\n",
       "</table>\n",
       "<p>18477 rows × 18 columns</p>\n",
       "</div>"
      ],
      "text/plain": [
       "       ID_Patient_Care_Situation  Diagnosed_Condition  Patient_ID  \\\n",
       "0                          21388                    6       10452   \n",
       "1                           1990                   10        5807   \n",
       "2                          16710                   43       11802   \n",
       "3                          29293                   32        6863   \n",
       "4                          24007                   14        1495   \n",
       "...                          ...                  ...         ...   \n",
       "18472                      22176                   45        4759   \n",
       "18473                       9834                   36        8294   \n",
       "18474                      23932                   44        2107   \n",
       "18475                      24076                   45        6016   \n",
       "18476                      24554                   13        9914   \n",
       "\n",
       "      Treated_with_drugs  Patient_Age  Patient_Body_Mass_Index Patient_Smoker  \\\n",
       "0               DX1 DX4            23                19.199662            YES   \n",
       "1               DX1 DX5            65                18.354031            YES   \n",
       "2                    DX6            2                24.732770             NO   \n",
       "3               DX2 DX3            57                22.204759             NO   \n",
       "4                    DX6           66                23.883381            YES   \n",
       "...                  ...          ...                      ...            ...   \n",
       "18472           DX2 DX3            65                24.155042             NO   \n",
       "18473                DX6           41                29.557805            YES   \n",
       "18474               DX4            48                25.242448            YES   \n",
       "18475               DX3            47                29.921929            YES   \n",
       "18476               DX3            47                19.603383             NO   \n",
       "\n",
       "      Patient_Rural_Urban Patient_mental_condition    A    B    C    D    E  \\\n",
       "0                   RURAL                   Stable  0.0  0.0  0.0  0.0  1.0   \n",
       "1                   URBAN                   Stable  0.0  1.0  0.0  0.0  1.0   \n",
       "2                   RURAL                   Stable  1.0  0.0  0.0  0.0  0.0   \n",
       "3                   URBAN                   Stable  1.0  1.0  0.0  1.0  0.0   \n",
       "4                   RURAL                   Stable  1.0  0.0  0.0  0.0  0.0   \n",
       "...                   ...                      ...  ...  ...  ...  ...  ...   \n",
       "18472               RURAL                   Stable  1.0  0.0  0.0  0.0  0.0   \n",
       "18473               RURAL                   Stable  1.0  1.0  0.0  0.0  0.0   \n",
       "18474               RURAL                   Stable  1.0  0.0  1.0  0.0  1.0   \n",
       "18475               RURAL                   Stable  1.0  0.0  0.0  1.0  1.0   \n",
       "18476               RURAL                   Stable  NaN  NaN  NaN  NaN  NaN   \n",
       "\n",
       "         F    Z  Number_of_prev_cond  Survived_1_year  \n",
       "0      0.0  0.0                  1.0                1  \n",
       "1      0.0  0.0                  2.0                0  \n",
       "2      0.0  0.0                  1.0                0  \n",
       "3      0.0  0.0                  3.0                1  \n",
       "4      0.0  0.0                  1.0                0  \n",
       "...    ...  ...                  ...              ...  \n",
       "18472  0.0  0.0                  1.0                1  \n",
       "18473  0.0  0.0                  2.0                1  \n",
       "18474  0.0  0.0                  3.0                1  \n",
       "18475  0.0  0.0                  3.0                0  \n",
       "18476  NaN  NaN                  NaN                1  \n",
       "\n",
       "[18477 rows x 18 columns]"
      ]
     },
     "execution_count": 3,
     "metadata": {},
     "output_type": "execute_result"
    }
   ],
   "source": [
    "train"
   ]
  },
  {
   "cell_type": "markdown",
   "metadata": {},
   "source": [
    "## Exploratory Data Analysis"
   ]
  },
  {
   "cell_type": "markdown",
   "metadata": {},
   "source": [
    "### Missing Data"
   ]
  },
  {
   "cell_type": "code",
   "execution_count": 4,
   "metadata": {},
   "outputs": [
    {
     "data": {
      "text/plain": [
       "<AxesSubplot:>"
      ]
     },
     "execution_count": 4,
     "metadata": {},
     "output_type": "execute_result"
    },
    {
     "data": {
      "image/png": "[encoded data removed]",
      "text/plain": [
       "<Figure size 432x288 with 1 Axes>"
      ]
     },
     "metadata": {
      "needs_background": "light"
     },
     "output_type": "display_data"
    }
   ],
   "source": [
    "sns.heatmap(train.isnull(), yticklabels=False, cbar=False, cmap=\"rocket\")"
   ]
  },
  {
   "cell_type": "code",
   "execution_count": 96,
   "metadata": {},
   "outputs": [
    {
     "data": {
      "text/plain": [
       "Survived_1_year              1.000000\n",
       "E                            0.017978\n",
       "Z                            0.016609\n",
       "F                           -0.000560\n",
       "ID_Patient_Care_Situation   -0.000916\n",
       "Diagnosed_Condition         -0.002220\n",
       "Patient_ID                  -0.005893\n",
       "C                           -0.034185\n",
       "B                           -0.047078\n",
       "A                           -0.048642\n",
       "Patient_Age                 -0.079212\n",
       "Number_of_prev_cond         -0.083936\n",
       "D                           -0.106973\n",
       "Patient_Body_Mass_Index     -0.122488\n",
       "Name: Survived_1_year, dtype: float64"
      ]
     },
     "execution_count": 96,
     "metadata": {},
     "output_type": "execute_result"
    }
   ],
   "source": [
    "corr_matrix = train.corr()\n",
    "corr_matrix[\"Survived_1_year\"].sort_values(ascending=False)\n",
    "\n",
    "# plt.figure(figsize=(24,20))\n",
    "# sns.heatmap(train.corr(), annot=True)"
   ]
  },
  {
   "cell_type": "code",
   "execution_count": 6,
   "metadata": {},
   "outputs": [
    {
     "data": {
      "text/plain": [
       "<AxesSubplot:xlabel='Survived_1_year', ylabel='count'>"
      ]
     },
     "execution_count": 6,
     "metadata": {},
     "output_type": "execute_result"
    },
    {
     "data": {
      "image/png": "[encoded data removed]",
      "text/plain": [
       "<Figure size 432x288 with 1 Axes>"
      ]
     },
     "metadata": {},
     "output_type": "display_data"
    }
   ],
   "source": [
    "sns.set_style('whitegrid')\n",
    "sns.countplot(x='Survived_1_year',data=train)"
   ]
  },
  {
   "cell_type": "markdown",
   "metadata": {},
   "source": [
    "more patients survived"
   ]
  },
  {
   "cell_type": "code",
   "execution_count": 7,
   "metadata": {},
   "outputs": [
    {
     "data": {
      "text/plain": [
       "<AxesSubplot:xlabel='Survived_1_year', ylabel='count'>"
      ]
     },
     "execution_count": 7,
     "metadata": {},
     "output_type": "execute_result"
    },
    {
     "data": {
      "image/png": "[encoded data removed]",
      "text/plain": [
       "<Figure size 432x288 with 1 Axes>"
      ]
     },
     "metadata": {},
     "output_type": "display_data"
    }
   ],
   "source": [
    "sns.set_style('whitegrid')\n",
    "sns.countplot(x='Survived_1_year',hue='Patient_Rural_Urban',data=train, palette='RdBu_r')"
   ]
  },
  {
   "cell_type": "markdown",
   "metadata": {},
   "source": [
    "More patients survived in rural areas than urban areas."
   ]
  },
  {
   "cell_type": "code",
   "execution_count": 8,
   "metadata": {},
   "outputs": [
    {
     "data": {
      "text/plain": [
       "<AxesSubplot:xlabel='Survived_1_year', ylabel='count'>"
      ]
     },
     "execution_count": 8,
     "metadata": {},
     "output_type": "execute_result"
    },
    {
     "data": {
      "image/png": "[encoded data removed]",
      "text/plain": [
       "<Figure size 432x288 with 1 Axes>"
      ]
     },
     "metadata": {},
     "output_type": "display_data"
    }
   ],
   "source": [
    "sns.set_style('whitegrid')\n",
    "sns.countplot(x='Survived_1_year',hue='Patient_Smoker',data=train, palette='icefire')"
   ]
  },
  {
   "cell_type": "markdown",
   "metadata": {},
   "source": [
    "Non-smoking patients clearly had a higher probability of surviving."
   ]
  },
  {
   "cell_type": "code",
   "execution_count": 9,
   "metadata": {},
   "outputs": [
    {
     "data": {
      "text/plain": [
       "<matplotlib.legend.Legend at 0x18255fb8be0>"
      ]
     },
     "execution_count": 9,
     "metadata": {},
     "output_type": "execute_result"
    },
    {
     "data": {
      "image/png": "[encoded data removed]",
      "text/plain": [
       "<Figure size 432x288 with 1 Axes>"
      ]
     },
     "metadata": {},
     "output_type": "display_data"
    }
   ],
   "source": [
    "sns.set_style('whitegrid')\n",
    "g = sns.countplot(x='Survived_1_year',hue='Diagnosed_Condition',data=train, palette='rainbow')\n",
    "plt.legend(loc=\"upper left\", bbox_to_anchor=(1, 1))"
   ]
  },
  {
   "cell_type": "markdown",
   "metadata": {},
   "source": [
    "Patients diagnosed with the conditions in the middle having the greener shades had less chances of survival. "
   ]
  },
  {
   "cell_type": "code",
   "execution_count": 10,
   "metadata": {},
   "outputs": [
    {
     "data": {
      "text/plain": [
       "<AxesSubplot:xlabel='Survived_1_year', ylabel='count'>"
      ]
     },
     "execution_count": 10,
     "metadata": {},
     "output_type": "execute_result"
    },
    {
     "data": {
      "image/png": "[encoded data removed]",
      "text/plain": [
       "<Figure size 432x288 with 1 Axes>"
      ]
     },
     "metadata": {},
     "output_type": "display_data"
    }
   ],
   "source": [
    "sns.set_style('whitegrid')\n",
    "sns.countplot(x='Survived_1_year',hue='Number_of_prev_cond',data=train, palette='rocket')"
   ]
  },
  {
   "cell_type": "markdown",
   "metadata": {},
   "source": [
    "Patients who had been diagnosed with only 1 or 2 conditons had better chances of survival."
   ]
  },
  {
   "cell_type": "code",
   "execution_count": 10,
   "metadata": {},
   "outputs": [
    {
     "data": {
      "text/plain": [
       "<AxesSubplot:xlabel='Survived_1_year', ylabel='count'>"
      ]
     },
     "execution_count": 10,
     "metadata": {},
     "output_type": "execute_result"
    },
    {
     "data": {
      "image/png": "[encoded data removed]",
      "text/plain": [
       "<Figure size 432x288 with 1 Axes>"
      ]
     },
     "metadata": {},
     "output_type": "display_data"
    }
   ],
   "source": [
    "sns.set_style('whitegrid')\n",
    "sns.countplot(x='Survived_1_year',hue='A',data=train, palette='Spectral')"
   ]
  },
  {
   "cell_type": "markdown",
   "metadata": {},
   "source": [
    "Patients previously diagnosed with only A had more chances of survival. Rest of the patients diagnosed with other conditions had comparitively lesser chances of survival."
   ]
  },
  {
   "cell_type": "code",
   "execution_count": 11,
   "metadata": {},
   "outputs": [
    {
     "data": {
      "text/plain": [
       "<AxesSubplot:xlabel='Survived_1_year', ylabel='count'>"
      ]
     },
     "execution_count": 11,
     "metadata": {},
     "output_type": "execute_result"
    },
    {
     "data": {
      "image/png": "[encoded data removed]",
      "text/plain": [
       "<Figure size 432x288 with 1 Axes>"
      ]
     },
     "metadata": {},
     "output_type": "display_data"
    }
   ],
   "source": [
    "sns.set_style('whitegrid')\n",
    "sns.countplot(x='Survived_1_year',hue='B',data=train, palette='Spectral')"
   ]
  },
  {
   "cell_type": "code",
   "execution_count": 13,
   "metadata": {},
   "outputs": [
    {
     "data": {
      "text/plain": [
       "<AxesSubplot:xlabel='Survived_1_year', ylabel='count'>"
      ]
     },
     "execution_count": 13,
     "metadata": {},
     "output_type": "execute_result"
    },
    {
     "data": {
      "image/png": "[encoded data removed]",
      "text/plain": [
       "<Figure size 432x288 with 1 Axes>"
      ]
     },
     "metadata": {},
     "output_type": "display_data"
    }
   ],
   "source": [
    "sns.set_style('whitegrid')\n",
    "sns.countplot(x='Survived_1_year',hue='C',data=train, palette='Spectral')"
   ]
  },
  {
   "cell_type": "code",
   "execution_count": 14,
   "metadata": {},
   "outputs": [
    {
     "data": {
      "text/plain": [
       "<AxesSubplot:xlabel='Survived_1_year', ylabel='count'>"
      ]
     },
     "execution_count": 14,
     "metadata": {},
     "output_type": "execute_result"
    },
    {
     "data": {
      "image/png": "[encoded data removed]",
      "text/plain": [
       "<Figure size 432x288 with 1 Axes>"
      ]
     },
     "metadata": {},
     "output_type": "display_data"
    }
   ],
   "source": [
    "sns.set_style('whitegrid')\n",
    "sns.countplot(x='Survived_1_year',hue='D',data=train, palette='Spectral')"
   ]
  },
  {
   "cell_type": "code",
   "execution_count": 15,
   "metadata": {},
   "outputs": [
    {
     "data": {
      "text/plain": [
       "<AxesSubplot:xlabel='Survived_1_year', ylabel='count'>"
      ]
     },
     "execution_count": 15,
     "metadata": {},
     "output_type": "execute_result"
    },
    {
     "data": {
      "image/png": "[encoded data removed]",
      "text/plain": [
       "<Figure size 432x288 with 1 Axes>"
      ]
     },
     "metadata": {},
     "output_type": "display_data"
    }
   ],
   "source": [
    "sns.set_style('whitegrid')\n",
    "sns.countplot(x='Survived_1_year',hue='E',data=train, palette='Spectral')"
   ]
  },
  {
   "cell_type": "code",
   "execution_count": 16,
   "metadata": {},
   "outputs": [
    {
     "data": {
      "text/plain": [
       "<AxesSubplot:xlabel='Survived_1_year', ylabel='count'>"
      ]
     },
     "execution_count": 16,
     "metadata": {},
     "output_type": "execute_result"
    },
    {
     "data": {
      "image/png": "[encoded data removed]",
      "text/plain": [
       "<Figure size 432x288 with 1 Axes>"
      ]
     },
     "metadata": {},
     "output_type": "display_data"
    }
   ],
   "source": [
    "sns.set_style('whitegrid')\n",
    "sns.countplot(x='Survived_1_year',hue='F',data=train, palette='Spectral')"
   ]
  },
  {
   "cell_type": "code",
   "execution_count": 17,
   "metadata": {},
   "outputs": [
    {
     "data": {
      "text/plain": [
       "<AxesSubplot:xlabel='Survived_1_year', ylabel='count'>"
      ]
     },
     "execution_count": 17,
     "metadata": {},
     "output_type": "execute_result"
    },
    {
     "data": {
      "image/png": "[encoded data removed]",
      "text/plain": [
       "<Figure size 432x288 with 1 Axes>"
      ]
     },
     "metadata": {},
     "output_type": "display_data"
    }
   ],
   "source": [
    "sns.set_style('whitegrid')\n",
    "sns.countplot(x='Survived_1_year',hue='Z',data=train, palette='Spectral')"
   ]
  },
  {
   "cell_type": "code",
   "execution_count": 18,
   "metadata": {},
   "outputs": [
    {
     "data": {
      "text/plain": [
       "<matplotlib.legend.Legend at 0x2a42e3231f0>"
      ]
     },
     "execution_count": 18,
     "metadata": {},
     "output_type": "execute_result"
    },
    {
     "data": {
      "image/png": "[encoded data removed]",
      "text/plain": [
       "<Figure size 432x288 with 1 Axes>"
      ]
     },
     "metadata": {},
     "output_type": "display_data"
    }
   ],
   "source": [
    "sns.set_style('whitegrid')\n",
    "sns.countplot(x='Survived_1_year',hue='Treated_with_drugs',data=train, palette='coolwarm')\n",
    "plt.legend(loc=\"upper left\", bbox_to_anchor=(1, 1))"
   ]
  },
  {
   "cell_type": "code",
   "execution_count": 5,
   "metadata": {},
   "outputs": [],
   "source": [
    "def avgConditions(df):\n",
    "    sumA = 0\n",
    "    sumB = 0\n",
    "    sumC = 0\n",
    "    sumD = 0\n",
    "    sumE = 0\n",
    "    sumF = 0\n",
    "    sumZ = 0\n",
    "    count = 0\n",
    "    for i, row in df.iterrows():\n",
    "        count+=1\n",
    "        if not pd.isnull(row[\"A\"]):\n",
    "            sumA+= row[\"A\"]\n",
    "        if not pd.isnull(row[\"B\"]):\n",
    "            sumB+= row[\"B\"]\n",
    "        if not pd.isnull(row[\"C\"]):\n",
    "            sumC+= row[\"C\"]\n",
    "        if not pd.isnull(row[\"D\"]):\n",
    "            sumD+= row[\"D\"]\n",
    "        if not pd.isnull(row[\"E\"]):\n",
    "            sumE+= row[\"E\"]\n",
    "        if not pd.isnull(row[\"F\"]):\n",
    "            sumF+= row[\"F\"]\n",
    "        if not pd.isnull(row[\"Z\"]):\n",
    "            sumZ+= row[\"Z\"]\n",
    "    return sumA/count, sumB/count, sumC/count, sumD/count, sumE/count, sumF/count, sumZ/count"
   ]
  },
  {
   "cell_type": "code",
   "execution_count": 14,
   "metadata": {},
   "outputs": [
    {
     "data": {
      "text/plain": [
       "(0.8501380094171131,\n",
       " 0.12945824538615577,\n",
       " 0.17643556854467718,\n",
       " 0.078151215024084,\n",
       " 0.3698111165232451,\n",
       " 0.05081993830167235,\n",
       " 0.000432970720355036)"
      ]
     },
     "execution_count": 14,
     "metadata": {},
     "output_type": "execute_result"
    }
   ],
   "source": [
    "avgA, avgB, avgC, avgD, avgE, avgF, avgZ = avgConditions(train)\n",
    "avgA, avgB, avgC, avgD, avgE, avgF, avgZ"
   ]
  },
  {
   "cell_type": "code",
   "execution_count": 97,
   "metadata": {},
   "outputs": [],
   "source": [
    "avgA, avgB, avgC, avgD, avgE, avgF, avgZ = 1, 0, 0, 0, 0, 0, 0"
   ]
  },
  {
   "cell_type": "code",
   "execution_count": 98,
   "metadata": {},
   "outputs": [],
   "source": [
    "def imputeA(cols):\n",
    "    condition = cols[0]\n",
    "    \n",
    "    if pd.isnull(condition):\n",
    "        return avgA\n",
    "    else:\n",
    "        return condition\n",
    "    \n",
    "def imputeB(cols):\n",
    "    condition = cols[0]\n",
    "    \n",
    "    if pd.isnull(condition):\n",
    "        return avgB\n",
    "    else:\n",
    "        return condition\n",
    "\n",
    "def imputeC(cols):\n",
    "    condition = cols[0]\n",
    "    \n",
    "    if pd.isnull(condition):\n",
    "        return avgC\n",
    "    else:\n",
    "        return condition\n",
    "    \n",
    "def imputeD(cols):\n",
    "    condition = cols[0]\n",
    "    \n",
    "    if pd.isnull(condition):\n",
    "        return avgD\n",
    "    else:\n",
    "        return condition\n",
    "    \n",
    "def imputeE(cols):\n",
    "    condition = cols[0]\n",
    "    \n",
    "    if pd.isnull(condition):\n",
    "        return avgE\n",
    "    else:\n",
    "        return condition\n",
    "    \n",
    "def imputeF(cols):\n",
    "    condition = cols[0]\n",
    "    \n",
    "    if pd.isnull(condition):\n",
    "        return avgF\n",
    "    else:\n",
    "        return condition\n",
    "\n",
    "def imputeZ(cols):\n",
    "    condition = cols[0]\n",
    "    \n",
    "    if pd.isnull(condition):\n",
    "        return avgZ\n",
    "    else:\n",
    "        return condition\n",
    "    \n",
    "def imputeConditions(cols):\n",
    "    conditions = cols[0]\n",
    "\n",
    "    A = cols[1]\n",
    "    B = cols[2]\n",
    "    C = cols[3]\n",
    "    D = cols[4]\n",
    "    E = cols[5]\n",
    "    F = cols[6]\n",
    "    Z = cols[7]\n",
    "    \n",
    "    if pd.isnull(conditions):\n",
    "        return A+B+C+D+E+F+Z\n",
    "    else:\n",
    "        return conditions"
   ]
  },
  {
   "cell_type": "code",
   "execution_count": 99,
   "metadata": {},
   "outputs": [],
   "source": [
    "train['A'] = train[['A']].apply(imputeA, axis=1)\n",
    "train['B'] = train[['B']].apply(imputeB, axis=1)\n",
    "train['C'] = train[['C']].apply(imputeC, axis=1)\n",
    "train['D'] = train[['D']].apply(imputeD, axis=1)\n",
    "train['E'] = train[['E']].apply(imputeE, axis=1)\n",
    "train['F'] = train[['F']].apply(imputeF, axis=1)\n",
    "train['Z'] = train[['Z']].apply(imputeZ, axis=1)\n",
    "train['Number_of_prev_cond'] = train[['Number_of_prev_cond', 'A', 'B', 'C', 'D', 'E', 'F', 'Z']].apply(imputeConditions, axis=1)"
   ]
  },
  {
   "cell_type": "code",
   "execution_count": 100,
   "metadata": {},
   "outputs": [],
   "source": [
    "# train.drop(['Patient_mental_condition', 'Patient_ID', 'ID_Patient_Care_Situation'],axis=1,inplace=True)\n",
    "train.drop(['Patient_mental_condition'],axis=1,inplace=True)"
   ]
  },
  {
   "cell_type": "code",
   "execution_count": 101,
   "metadata": {},
   "outputs": [
    {
     "data": {
      "text/plain": [
       "<AxesSubplot:>"
      ]
     },
     "execution_count": 101,
     "metadata": {},
     "output_type": "execute_result"
    },
    {
     "data": {
      "image/png": "[encoded data removed]",
      "text/plain": [
       "<Figure size 432x288 with 1 Axes>"
      ]
     },
     "metadata": {
      "needs_background": "light"
     },
     "output_type": "display_data"
    }
   ],
   "source": [
    "sns.heatmap(train.isnull(), yticklabels=False, cbar=False, cmap=\"rocket\")"
   ]
  },
  {
   "cell_type": "code",
   "execution_count": 102,
   "metadata": {},
   "outputs": [
    {
     "data": {
      "text/html": [
       "<div>\n",
       "<style scoped>\n",
       "    .dataframe tbody tr th:only-of-type {\n",
       "        vertical-align: middle;\n",
       "    }\n",
       "\n",
       "    .dataframe tbody tr th {\n",
       "        vertical-align: top;\n",
       "    }\n",
       "\n",
       "    .dataframe thead th {\n",
       "        text-align: right;\n",
       "    }\n",
       "</style>\n",
       "<table border=\"1\" class=\"dataframe\">\n",
       "  <thead>\n",
       "    <tr style=\"text-align: right;\">\n",
       "      <th></th>\n",
       "      <th>ID_Patient_Care_Situation</th>\n",
       "      <th>Diagnosed_Condition</th>\n",
       "      <th>Patient_ID</th>\n",
       "      <th>Treated_with_drugs</th>\n",
       "      <th>Patient_Age</th>\n",
       "      <th>Patient_Body_Mass_Index</th>\n",
       "      <th>Patient_Smoker</th>\n",
       "      <th>Patient_Rural_Urban</th>\n",
       "      <th>A</th>\n",
       "      <th>B</th>\n",
       "      <th>C</th>\n",
       "      <th>D</th>\n",
       "      <th>E</th>\n",
       "      <th>F</th>\n",
       "      <th>Z</th>\n",
       "      <th>Number_of_prev_cond</th>\n",
       "      <th>Survived_1_year</th>\n",
       "    </tr>\n",
       "  </thead>\n",
       "  <tbody>\n",
       "    <tr>\n",
       "      <th>0</th>\n",
       "      <td>21388</td>\n",
       "      <td>6</td>\n",
       "      <td>10452</td>\n",
       "      <td>DX1 DX4</td>\n",
       "      <td>23</td>\n",
       "      <td>19.199662</td>\n",
       "      <td>YES</td>\n",
       "      <td>RURAL</td>\n",
       "      <td>0.0</td>\n",
       "      <td>0.0</td>\n",
       "      <td>0.0</td>\n",
       "      <td>0.0</td>\n",
       "      <td>1.0</td>\n",
       "      <td>0.0</td>\n",
       "      <td>0.0</td>\n",
       "      <td>1.0</td>\n",
       "      <td>1</td>\n",
       "    </tr>\n",
       "    <tr>\n",
       "      <th>1</th>\n",
       "      <td>1990</td>\n",
       "      <td>10</td>\n",
       "      <td>5807</td>\n",
       "      <td>DX1 DX5</td>\n",
       "      <td>65</td>\n",
       "      <td>18.354031</td>\n",
       "      <td>YES</td>\n",
       "      <td>URBAN</td>\n",
       "      <td>0.0</td>\n",
       "      <td>1.0</td>\n",
       "      <td>0.0</td>\n",
       "      <td>0.0</td>\n",
       "      <td>1.0</td>\n",
       "      <td>0.0</td>\n",
       "      <td>0.0</td>\n",
       "      <td>2.0</td>\n",
       "      <td>0</td>\n",
       "    </tr>\n",
       "    <tr>\n",
       "      <th>2</th>\n",
       "      <td>16710</td>\n",
       "      <td>43</td>\n",
       "      <td>11802</td>\n",
       "      <td>DX6</td>\n",
       "      <td>2</td>\n",
       "      <td>24.732770</td>\n",
       "      <td>NO</td>\n",
       "      <td>RURAL</td>\n",
       "      <td>1.0</td>\n",
       "      <td>0.0</td>\n",
       "      <td>0.0</td>\n",
       "      <td>0.0</td>\n",
       "      <td>0.0</td>\n",
       "      <td>0.0</td>\n",
       "      <td>0.0</td>\n",
       "      <td>1.0</td>\n",
       "      <td>0</td>\n",
       "    </tr>\n",
       "    <tr>\n",
       "      <th>3</th>\n",
       "      <td>29293</td>\n",
       "      <td>32</td>\n",
       "      <td>6863</td>\n",
       "      <td>DX2 DX3</td>\n",
       "      <td>57</td>\n",
       "      <td>22.204759</td>\n",
       "      <td>NO</td>\n",
       "      <td>URBAN</td>\n",
       "      <td>1.0</td>\n",
       "      <td>1.0</td>\n",
       "      <td>0.0</td>\n",
       "      <td>1.0</td>\n",
       "      <td>0.0</td>\n",
       "      <td>0.0</td>\n",
       "      <td>0.0</td>\n",
       "      <td>3.0</td>\n",
       "      <td>1</td>\n",
       "    </tr>\n",
       "    <tr>\n",
       "      <th>4</th>\n",
       "      <td>24007</td>\n",
       "      <td>14</td>\n",
       "      <td>1495</td>\n",
       "      <td>DX6</td>\n",
       "      <td>66</td>\n",
       "      <td>23.883381</td>\n",
       "      <td>YES</td>\n",
       "      <td>RURAL</td>\n",
       "      <td>1.0</td>\n",
       "      <td>0.0</td>\n",
       "      <td>0.0</td>\n",
       "      <td>0.0</td>\n",
       "      <td>0.0</td>\n",
       "      <td>0.0</td>\n",
       "      <td>0.0</td>\n",
       "      <td>1.0</td>\n",
       "      <td>0</td>\n",
       "    </tr>\n",
       "  </tbody>\n",
       "</table>\n",
       "</div>"
      ],
      "text/plain": [
       "   ID_Patient_Care_Situation  Diagnosed_Condition  Patient_ID  \\\n",
       "0                      21388                    6       10452   \n",
       "1                       1990                   10        5807   \n",
       "2                      16710                   43       11802   \n",
       "3                      29293                   32        6863   \n",
       "4                      24007                   14        1495   \n",
       "\n",
       "  Treated_with_drugs  Patient_Age  Patient_Body_Mass_Index Patient_Smoker  \\\n",
       "0           DX1 DX4            23                19.199662            YES   \n",
       "1           DX1 DX5            65                18.354031            YES   \n",
       "2                DX6            2                24.732770             NO   \n",
       "3           DX2 DX3            57                22.204759             NO   \n",
       "4                DX6           66                23.883381            YES   \n",
       "\n",
       "  Patient_Rural_Urban    A    B    C    D    E    F    Z  Number_of_prev_cond  \\\n",
       "0               RURAL  0.0  0.0  0.0  0.0  1.0  0.0  0.0                  1.0   \n",
       "1               URBAN  0.0  1.0  0.0  0.0  1.0  0.0  0.0                  2.0   \n",
       "2               RURAL  1.0  0.0  0.0  0.0  0.0  0.0  0.0                  1.0   \n",
       "3               URBAN  1.0  1.0  0.0  1.0  0.0  0.0  0.0                  3.0   \n",
       "4               RURAL  1.0  0.0  0.0  0.0  0.0  0.0  0.0                  1.0   \n",
       "\n",
       "   Survived_1_year  \n",
       "0                1  \n",
       "1                0  \n",
       "2                0  \n",
       "3                1  \n",
       "4                0  "
      ]
     },
     "execution_count": 102,
     "metadata": {},
     "output_type": "execute_result"
    }
   ],
   "source": [
    "train.head()"
   ]
  },
  {
   "cell_type": "code",
   "execution_count": 103,
   "metadata": {},
   "outputs": [],
   "source": [
    "def isSmoker(df):\n",
    "    df[\"Smoker\"] = 0\n",
    "#     df[\"Non-Smoker\"] = 0\n",
    "    for i, row in df.iterrows():\n",
    "        smoker = row[\"Patient_Smoker\"]\n",
    "        if smoker == \"YES\":\n",
    "            df.at[i, \"Smoker\"] = 1\n",
    "#         elif smoker == \"NO\":\n",
    "#             df.at[i, \"Non-Smoker\"] = 1"
   ]
  },
  {
   "cell_type": "code",
   "execution_count": 104,
   "metadata": {},
   "outputs": [],
   "source": [
    "isSmoker(train)"
   ]
  },
  {
   "cell_type": "code",
   "execution_count": 105,
   "metadata": {},
   "outputs": [],
   "source": [
    "ruralUrban = pd.get_dummies(train['Patient_Rural_Urban'],drop_first=True)"
   ]
  },
  {
   "cell_type": "code",
   "execution_count": 106,
   "metadata": {},
   "outputs": [],
   "source": [
    "train.drop(['Patient_Rural_Urban', 'Patient_Smoker'],axis=1,inplace=True)"
   ]
  },
  {
   "cell_type": "code",
   "execution_count": 107,
   "metadata": {},
   "outputs": [],
   "source": [
    "train = pd.concat([train, ruralUrban],axis=1)"
   ]
  },
  {
   "cell_type": "code",
   "execution_count": 108,
   "metadata": {},
   "outputs": [
    {
     "data": {
      "text/html": [
       "<div>\n",
       "<style scoped>\n",
       "    .dataframe tbody tr th:only-of-type {\n",
       "        vertical-align: middle;\n",
       "    }\n",
       "\n",
       "    .dataframe tbody tr th {\n",
       "        vertical-align: top;\n",
       "    }\n",
       "\n",
       "    .dataframe thead th {\n",
       "        text-align: right;\n",
       "    }\n",
       "</style>\n",
       "<table border=\"1\" class=\"dataframe\">\n",
       "  <thead>\n",
       "    <tr style=\"text-align: right;\">\n",
       "      <th></th>\n",
       "      <th>ID_Patient_Care_Situation</th>\n",
       "      <th>Diagnosed_Condition</th>\n",
       "      <th>Patient_ID</th>\n",
       "      <th>Treated_with_drugs</th>\n",
       "      <th>Patient_Age</th>\n",
       "      <th>Patient_Body_Mass_Index</th>\n",
       "      <th>A</th>\n",
       "      <th>B</th>\n",
       "      <th>C</th>\n",
       "      <th>D</th>\n",
       "      <th>E</th>\n",
       "      <th>F</th>\n",
       "      <th>Z</th>\n",
       "      <th>Number_of_prev_cond</th>\n",
       "      <th>Survived_1_year</th>\n",
       "      <th>Smoker</th>\n",
       "      <th>URBAN</th>\n",
       "    </tr>\n",
       "  </thead>\n",
       "  <tbody>\n",
       "    <tr>\n",
       "      <th>0</th>\n",
       "      <td>21388</td>\n",
       "      <td>6</td>\n",
       "      <td>10452</td>\n",
       "      <td>DX1 DX4</td>\n",
       "      <td>23</td>\n",
       "      <td>19.199662</td>\n",
       "      <td>0.0</td>\n",
       "      <td>0.0</td>\n",
       "      <td>0.0</td>\n",
       "      <td>0.0</td>\n",
       "      <td>1.0</td>\n",
       "      <td>0.0</td>\n",
       "      <td>0.0</td>\n",
       "      <td>1.0</td>\n",
       "      <td>1</td>\n",
       "      <td>1</td>\n",
       "      <td>0</td>\n",
       "    </tr>\n",
       "    <tr>\n",
       "      <th>1</th>\n",
       "      <td>1990</td>\n",
       "      <td>10</td>\n",
       "      <td>5807</td>\n",
       "      <td>DX1 DX5</td>\n",
       "      <td>65</td>\n",
       "      <td>18.354031</td>\n",
       "      <td>0.0</td>\n",
       "      <td>1.0</td>\n",
       "      <td>0.0</td>\n",
       "      <td>0.0</td>\n",
       "      <td>1.0</td>\n",
       "      <td>0.0</td>\n",
       "      <td>0.0</td>\n",
       "      <td>2.0</td>\n",
       "      <td>0</td>\n",
       "      <td>1</td>\n",
       "      <td>1</td>\n",
       "    </tr>\n",
       "    <tr>\n",
       "      <th>2</th>\n",
       "      <td>16710</td>\n",
       "      <td>43</td>\n",
       "      <td>11802</td>\n",
       "      <td>DX6</td>\n",
       "      <td>2</td>\n",
       "      <td>24.732770</td>\n",
       "      <td>1.0</td>\n",
       "      <td>0.0</td>\n",
       "      <td>0.0</td>\n",
       "      <td>0.0</td>\n",
       "      <td>0.0</td>\n",
       "      <td>0.0</td>\n",
       "      <td>0.0</td>\n",
       "      <td>1.0</td>\n",
       "      <td>0</td>\n",
       "      <td>0</td>\n",
       "      <td>0</td>\n",
       "    </tr>\n",
       "    <tr>\n",
       "      <th>3</th>\n",
       "      <td>29293</td>\n",
       "      <td>32</td>\n",
       "      <td>6863</td>\n",
       "      <td>DX2 DX3</td>\n",
       "      <td>57</td>\n",
       "      <td>22.204759</td>\n",
       "      <td>1.0</td>\n",
       "      <td>1.0</td>\n",
       "      <td>0.0</td>\n",
       "      <td>1.0</td>\n",
       "      <td>0.0</td>\n",
       "      <td>0.0</td>\n",
       "      <td>0.0</td>\n",
       "      <td>3.0</td>\n",
       "      <td>1</td>\n",
       "      <td>0</td>\n",
       "      <td>1</td>\n",
       "    </tr>\n",
       "    <tr>\n",
       "      <th>4</th>\n",
       "      <td>24007</td>\n",
       "      <td>14</td>\n",
       "      <td>1495</td>\n",
       "      <td>DX6</td>\n",
       "      <td>66</td>\n",
       "      <td>23.883381</td>\n",
       "      <td>1.0</td>\n",
       "      <td>0.0</td>\n",
       "      <td>0.0</td>\n",
       "      <td>0.0</td>\n",
       "      <td>0.0</td>\n",
       "      <td>0.0</td>\n",
       "      <td>0.0</td>\n",
       "      <td>1.0</td>\n",
       "      <td>0</td>\n",
       "      <td>1</td>\n",
       "      <td>0</td>\n",
       "    </tr>\n",
       "  </tbody>\n",
       "</table>\n",
       "</div>"
      ],
      "text/plain": [
       "   ID_Patient_Care_Situation  Diagnosed_Condition  Patient_ID  \\\n",
       "0                      21388                    6       10452   \n",
       "1                       1990                   10        5807   \n",
       "2                      16710                   43       11802   \n",
       "3                      29293                   32        6863   \n",
       "4                      24007                   14        1495   \n",
       "\n",
       "  Treated_with_drugs  Patient_Age  Patient_Body_Mass_Index    A    B    C  \\\n",
       "0           DX1 DX4            23                19.199662  0.0  0.0  0.0   \n",
       "1           DX1 DX5            65                18.354031  0.0  1.0  0.0   \n",
       "2                DX6            2                24.732770  1.0  0.0  0.0   \n",
       "3           DX2 DX3            57                22.204759  1.0  1.0  0.0   \n",
       "4                DX6           66                23.883381  1.0  0.0  0.0   \n",
       "\n",
       "     D    E    F    Z  Number_of_prev_cond  Survived_1_year  Smoker  URBAN  \n",
       "0  0.0  1.0  0.0  0.0                  1.0                1       1      0  \n",
       "1  0.0  1.0  0.0  0.0                  2.0                0       1      1  \n",
       "2  0.0  0.0  0.0  0.0                  1.0                0       0      0  \n",
       "3  1.0  0.0  0.0  0.0                  3.0                1       0      1  \n",
       "4  0.0  0.0  0.0  0.0                  1.0                0       1      0  "
      ]
     },
     "execution_count": 108,
     "metadata": {},
     "output_type": "execute_result"
    }
   ],
   "source": [
    "train.head()"
   ]
  },
  {
   "cell_type": "code",
   "execution_count": 109,
   "metadata": {},
   "outputs": [],
   "source": [
    "def getDrug(df):\n",
    "    df[\"DX1\"] = 0\n",
    "    df[\"DX2\"] = 0\n",
    "    df[\"DX3\"] = 0\n",
    "    df[\"DX4\"] = 0\n",
    "    df[\"DX5\"] = 0\n",
    "    df[\"DX6\"] = 0\n",
    "   \n",
    "    for i, row in df.iterrows():\n",
    "        drugsUsed = str(row[\"Treated_with_drugs\"])\n",
    "        if \"DX1\" in drugsUsed:\n",
    "            df.at[i, \"DX1\"] = 1\n",
    "        if \"DX2\" in drugsUsed:\n",
    "            df.at[i, \"DX2\"] = 1\n",
    "        if \"DX3\" in drugsUsed:\n",
    "            df.at[i, \"DX3\"] = 1\n",
    "        if \"DX4\" in drugsUsed:\n",
    "            df.at[i, \"DX4\"] = 1\n",
    "        if \"DX5\" in drugsUsed:\n",
    "            df.at[i, \"DX5\"] = 1\n",
    "        if \"DX6\" in drugsUsed:\n",
    "            df.at[i, \"DX6\"] = 1"
   ]
  },
  {
   "cell_type": "code",
   "execution_count": 110,
   "metadata": {},
   "outputs": [],
   "source": [
    "getDrug(train)"
   ]
  },
  {
   "cell_type": "code",
   "execution_count": 111,
   "metadata": {},
   "outputs": [],
   "source": [
    "train.drop('Treated_with_drugs',axis=1,inplace=True)"
   ]
  },
  {
   "cell_type": "code",
   "execution_count": 112,
   "metadata": {},
   "outputs": [
    {
     "data": {
      "text/html": [
       "<div>\n",
       "<style scoped>\n",
       "    .dataframe tbody tr th:only-of-type {\n",
       "        vertical-align: middle;\n",
       "    }\n",
       "\n",
       "    .dataframe tbody tr th {\n",
       "        vertical-align: top;\n",
       "    }\n",
       "\n",
       "    .dataframe thead th {\n",
       "        text-align: right;\n",
       "    }\n",
       "</style>\n",
       "<table border=\"1\" class=\"dataframe\">\n",
       "  <thead>\n",
       "    <tr style=\"text-align: right;\">\n",
       "      <th></th>\n",
       "      <th>ID_Patient_Care_Situation</th>\n",
       "      <th>Diagnosed_Condition</th>\n",
       "      <th>Patient_ID</th>\n",
       "      <th>Patient_Age</th>\n",
       "      <th>Patient_Body_Mass_Index</th>\n",
       "      <th>A</th>\n",
       "      <th>B</th>\n",
       "      <th>C</th>\n",
       "      <th>D</th>\n",
       "      <th>E</th>\n",
       "      <th>...</th>\n",
       "      <th>Number_of_prev_cond</th>\n",
       "      <th>Survived_1_year</th>\n",
       "      <th>Smoker</th>\n",
       "      <th>URBAN</th>\n",
       "      <th>DX1</th>\n",
       "      <th>DX2</th>\n",
       "      <th>DX3</th>\n",
       "      <th>DX4</th>\n",
       "      <th>DX5</th>\n",
       "      <th>DX6</th>\n",
       "    </tr>\n",
       "  </thead>\n",
       "  <tbody>\n",
       "    <tr>\n",
       "      <th>0</th>\n",
       "      <td>21388</td>\n",
       "      <td>6</td>\n",
       "      <td>10452</td>\n",
       "      <td>23</td>\n",
       "      <td>19.199662</td>\n",
       "      <td>0.0</td>\n",
       "      <td>0.0</td>\n",
       "      <td>0.0</td>\n",
       "      <td>0.0</td>\n",
       "      <td>1.0</td>\n",
       "      <td>...</td>\n",
       "      <td>1.0</td>\n",
       "      <td>1</td>\n",
       "      <td>1</td>\n",
       "      <td>0</td>\n",
       "      <td>1</td>\n",
       "      <td>0</td>\n",
       "      <td>0</td>\n",
       "      <td>1</td>\n",
       "      <td>0</td>\n",
       "      <td>0</td>\n",
       "    </tr>\n",
       "    <tr>\n",
       "      <th>1</th>\n",
       "      <td>1990</td>\n",
       "      <td>10</td>\n",
       "      <td>5807</td>\n",
       "      <td>65</td>\n",
       "      <td>18.354031</td>\n",
       "      <td>0.0</td>\n",
       "      <td>1.0</td>\n",
       "      <td>0.0</td>\n",
       "      <td>0.0</td>\n",
       "      <td>1.0</td>\n",
       "      <td>...</td>\n",
       "      <td>2.0</td>\n",
       "      <td>0</td>\n",
       "      <td>1</td>\n",
       "      <td>1</td>\n",
       "      <td>1</td>\n",
       "      <td>0</td>\n",
       "      <td>0</td>\n",
       "      <td>0</td>\n",
       "      <td>1</td>\n",
       "      <td>0</td>\n",
       "    </tr>\n",
       "    <tr>\n",
       "      <th>2</th>\n",
       "      <td>16710</td>\n",
       "      <td>43</td>\n",
       "      <td>11802</td>\n",
       "      <td>2</td>\n",
       "      <td>24.732770</td>\n",
       "      <td>1.0</td>\n",
       "      <td>0.0</td>\n",
       "      <td>0.0</td>\n",
       "      <td>0.0</td>\n",
       "      <td>0.0</td>\n",
       "      <td>...</td>\n",
       "      <td>1.0</td>\n",
       "      <td>0</td>\n",
       "      <td>0</td>\n",
       "      <td>0</td>\n",
       "      <td>0</td>\n",
       "      <td>0</td>\n",
       "      <td>0</td>\n",
       "      <td>0</td>\n",
       "      <td>0</td>\n",
       "      <td>1</td>\n",
       "    </tr>\n",
       "    <tr>\n",
       "      <th>3</th>\n",
       "      <td>29293</td>\n",
       "      <td>32</td>\n",
       "      <td>6863</td>\n",
       "      <td>57</td>\n",
       "      <td>22.204759</td>\n",
       "      <td>1.0</td>\n",
       "      <td>1.0</td>\n",
       "      <td>0.0</td>\n",
       "      <td>1.0</td>\n",
       "      <td>0.0</td>\n",
       "      <td>...</td>\n",
       "      <td>3.0</td>\n",
       "      <td>1</td>\n",
       "      <td>0</td>\n",
       "      <td>1</td>\n",
       "      <td>0</td>\n",
       "      <td>1</td>\n",
       "      <td>1</td>\n",
       "      <td>0</td>\n",
       "      <td>0</td>\n",
       "      <td>0</td>\n",
       "    </tr>\n",
       "    <tr>\n",
       "      <th>4</th>\n",
       "      <td>24007</td>\n",
       "      <td>14</td>\n",
       "      <td>1495</td>\n",
       "      <td>66</td>\n",
       "      <td>23.883381</td>\n",
       "      <td>1.0</td>\n",
       "      <td>0.0</td>\n",
       "      <td>0.0</td>\n",
       "      <td>0.0</td>\n",
       "      <td>0.0</td>\n",
       "      <td>...</td>\n",
       "      <td>1.0</td>\n",
       "      <td>0</td>\n",
       "      <td>1</td>\n",
       "      <td>0</td>\n",
       "      <td>0</td>\n",
       "      <td>0</td>\n",
       "      <td>0</td>\n",
       "      <td>0</td>\n",
       "      <td>0</td>\n",
       "      <td>1</td>\n",
       "    </tr>\n",
       "  </tbody>\n",
       "</table>\n",
       "<p>5 rows × 22 columns</p>\n",
       "</div>"
      ],
      "text/plain": [
       "   ID_Patient_Care_Situation  Diagnosed_Condition  Patient_ID  Patient_Age  \\\n",
       "0                      21388                    6       10452           23   \n",
       "1                       1990                   10        5807           65   \n",
       "2                      16710                   43       11802            2   \n",
       "3                      29293                   32        6863           57   \n",
       "4                      24007                   14        1495           66   \n",
       "\n",
       "   Patient_Body_Mass_Index    A    B    C    D    E  ...  Number_of_prev_cond  \\\n",
       "0                19.199662  0.0  0.0  0.0  0.0  1.0  ...                  1.0   \n",
       "1                18.354031  0.0  1.0  0.0  0.0  1.0  ...                  2.0   \n",
       "2                24.732770  1.0  0.0  0.0  0.0  0.0  ...                  1.0   \n",
       "3                22.204759  1.0  1.0  0.0  1.0  0.0  ...                  3.0   \n",
       "4                23.883381  1.0  0.0  0.0  0.0  0.0  ...                  1.0   \n",
       "\n",
       "   Survived_1_year  Smoker  URBAN  DX1  DX2  DX3  DX4  DX5  DX6  \n",
       "0                1       1      0    1    0    0    1    0    0  \n",
       "1                0       1      1    1    0    0    0    1    0  \n",
       "2                0       0      0    0    0    0    0    0    1  \n",
       "3                1       0      1    0    1    1    0    0    0  \n",
       "4                0       1      0    0    0    0    0    0    1  \n",
       "\n",
       "[5 rows x 22 columns]"
      ]
     },
     "execution_count": 112,
     "metadata": {},
     "output_type": "execute_result"
    }
   ],
   "source": [
    "train.head()"
   ]
  },
  {
   "cell_type": "code",
   "execution_count": 351,
   "metadata": {},
   "outputs": [],
   "source": [
    "# train.drop(['ID_Patient_Care_Situation', 'Diagnosed_Condition', 'Patient_ID', 'F', 'C', 'B', 'A'],axis=1,inplace=True)\n",
    "train.drop(['ID_Patient_Care_Situation', 'Diagnosed_Condition', 'Patient_ID', 'F'],axis=1,inplace=True)"
   ]
  },
  {
   "cell_type": "code",
   "execution_count": 113,
   "metadata": {},
   "outputs": [],
   "source": [
    "train.to_csv(\"cleaned2.csv\", index=False)"
   ]
  },
  {
   "cell_type": "markdown",
   "metadata": {},
   "source": [
    "## Regression Model"
   ]
  },
  {
   "cell_type": "markdown",
   "metadata": {},
   "source": [
    "### Train Test Split"
   ]
  },
  {
   "cell_type": "code",
   "execution_count": 114,
   "metadata": {},
   "outputs": [
    {
     "data": {
      "text/html": [
       "<div>\n",
       "<style scoped>\n",
       "    .dataframe tbody tr th:only-of-type {\n",
       "        vertical-align: middle;\n",
       "    }\n",
       "\n",
       "    .dataframe tbody tr th {\n",
       "        vertical-align: top;\n",
       "    }\n",
       "\n",
       "    .dataframe thead th {\n",
       "        text-align: right;\n",
       "    }\n",
       "</style>\n",
       "<table border=\"1\" class=\"dataframe\">\n",
       "  <thead>\n",
       "    <tr style=\"text-align: right;\">\n",
       "      <th></th>\n",
       "      <th>ID_Patient_Care_Situation</th>\n",
       "      <th>Diagnosed_Condition</th>\n",
       "      <th>Patient_ID</th>\n",
       "      <th>Patient_Age</th>\n",
       "      <th>Patient_Body_Mass_Index</th>\n",
       "      <th>A</th>\n",
       "      <th>B</th>\n",
       "      <th>C</th>\n",
       "      <th>D</th>\n",
       "      <th>E</th>\n",
       "      <th>...</th>\n",
       "      <th>Z</th>\n",
       "      <th>Number_of_prev_cond</th>\n",
       "      <th>Smoker</th>\n",
       "      <th>URBAN</th>\n",
       "      <th>DX1</th>\n",
       "      <th>DX2</th>\n",
       "      <th>DX3</th>\n",
       "      <th>DX4</th>\n",
       "      <th>DX5</th>\n",
       "      <th>DX6</th>\n",
       "    </tr>\n",
       "  </thead>\n",
       "  <tbody>\n",
       "    <tr>\n",
       "      <th>0</th>\n",
       "      <td>21388</td>\n",
       "      <td>6</td>\n",
       "      <td>10452</td>\n",
       "      <td>23</td>\n",
       "      <td>19.199662</td>\n",
       "      <td>0.0</td>\n",
       "      <td>0.0</td>\n",
       "      <td>0.0</td>\n",
       "      <td>0.0</td>\n",
       "      <td>1.0</td>\n",
       "      <td>...</td>\n",
       "      <td>0.0</td>\n",
       "      <td>1.0</td>\n",
       "      <td>1</td>\n",
       "      <td>0</td>\n",
       "      <td>1</td>\n",
       "      <td>0</td>\n",
       "      <td>0</td>\n",
       "      <td>1</td>\n",
       "      <td>0</td>\n",
       "      <td>0</td>\n",
       "    </tr>\n",
       "    <tr>\n",
       "      <th>1</th>\n",
       "      <td>1990</td>\n",
       "      <td>10</td>\n",
       "      <td>5807</td>\n",
       "      <td>65</td>\n",
       "      <td>18.354031</td>\n",
       "      <td>0.0</td>\n",
       "      <td>1.0</td>\n",
       "      <td>0.0</td>\n",
       "      <td>0.0</td>\n",
       "      <td>1.0</td>\n",
       "      <td>...</td>\n",
       "      <td>0.0</td>\n",
       "      <td>2.0</td>\n",
       "      <td>1</td>\n",
       "      <td>1</td>\n",
       "      <td>1</td>\n",
       "      <td>0</td>\n",
       "      <td>0</td>\n",
       "      <td>0</td>\n",
       "      <td>1</td>\n",
       "      <td>0</td>\n",
       "    </tr>\n",
       "    <tr>\n",
       "      <th>2</th>\n",
       "      <td>16710</td>\n",
       "      <td>43</td>\n",
       "      <td>11802</td>\n",
       "      <td>2</td>\n",
       "      <td>24.732770</td>\n",
       "      <td>1.0</td>\n",
       "      <td>0.0</td>\n",
       "      <td>0.0</td>\n",
       "      <td>0.0</td>\n",
       "      <td>0.0</td>\n",
       "      <td>...</td>\n",
       "      <td>0.0</td>\n",
       "      <td>1.0</td>\n",
       "      <td>0</td>\n",
       "      <td>0</td>\n",
       "      <td>0</td>\n",
       "      <td>0</td>\n",
       "      <td>0</td>\n",
       "      <td>0</td>\n",
       "      <td>0</td>\n",
       "      <td>1</td>\n",
       "    </tr>\n",
       "    <tr>\n",
       "      <th>3</th>\n",
       "      <td>29293</td>\n",
       "      <td>32</td>\n",
       "      <td>6863</td>\n",
       "      <td>57</td>\n",
       "      <td>22.204759</td>\n",
       "      <td>1.0</td>\n",
       "      <td>1.0</td>\n",
       "      <td>0.0</td>\n",
       "      <td>1.0</td>\n",
       "      <td>0.0</td>\n",
       "      <td>...</td>\n",
       "      <td>0.0</td>\n",
       "      <td>3.0</td>\n",
       "      <td>0</td>\n",
       "      <td>1</td>\n",
       "      <td>0</td>\n",
       "      <td>1</td>\n",
       "      <td>1</td>\n",
       "      <td>0</td>\n",
       "      <td>0</td>\n",
       "      <td>0</td>\n",
       "    </tr>\n",
       "    <tr>\n",
       "      <th>4</th>\n",
       "      <td>24007</td>\n",
       "      <td>14</td>\n",
       "      <td>1495</td>\n",
       "      <td>66</td>\n",
       "      <td>23.883381</td>\n",
       "      <td>1.0</td>\n",
       "      <td>0.0</td>\n",
       "      <td>0.0</td>\n",
       "      <td>0.0</td>\n",
       "      <td>0.0</td>\n",
       "      <td>...</td>\n",
       "      <td>0.0</td>\n",
       "      <td>1.0</td>\n",
       "      <td>1</td>\n",
       "      <td>0</td>\n",
       "      <td>0</td>\n",
       "      <td>0</td>\n",
       "      <td>0</td>\n",
       "      <td>0</td>\n",
       "      <td>0</td>\n",
       "      <td>1</td>\n",
       "    </tr>\n",
       "  </tbody>\n",
       "</table>\n",
       "<p>5 rows × 21 columns</p>\n",
       "</div>"
      ],
      "text/plain": [
       "   ID_Patient_Care_Situation  Diagnosed_Condition  Patient_ID  Patient_Age  \\\n",
       "0                      21388                    6       10452           23   \n",
       "1                       1990                   10        5807           65   \n",
       "2                      16710                   43       11802            2   \n",
       "3                      29293                   32        6863           57   \n",
       "4                      24007                   14        1495           66   \n",
       "\n",
       "   Patient_Body_Mass_Index    A    B    C    D    E  ...    Z  \\\n",
       "0                19.199662  0.0  0.0  0.0  0.0  1.0  ...  0.0   \n",
       "1                18.354031  0.0  1.0  0.0  0.0  1.0  ...  0.0   \n",
       "2                24.732770  1.0  0.0  0.0  0.0  0.0  ...  0.0   \n",
       "3                22.204759  1.0  1.0  0.0  1.0  0.0  ...  0.0   \n",
       "4                23.883381  1.0  0.0  0.0  0.0  0.0  ...  0.0   \n",
       "\n",
       "   Number_of_prev_cond  Smoker  URBAN  DX1  DX2  DX3  DX4  DX5  DX6  \n",
       "0                  1.0       1      0    1    0    0    1    0    0  \n",
       "1                  2.0       1      1    1    0    0    0    1    0  \n",
       "2                  1.0       0      0    0    0    0    0    0    1  \n",
       "3                  3.0       0      1    0    1    1    0    0    0  \n",
       "4                  1.0       1      0    0    0    0    0    0    1  \n",
       "\n",
       "[5 rows x 21 columns]"
      ]
     },
     "execution_count": 114,
     "metadata": {},
     "output_type": "execute_result"
    }
   ],
   "source": [
    "train.drop('Survived_1_year',axis=1).head()"
   ]
  },
  {
   "cell_type": "code",
   "execution_count": 115,
   "metadata": {},
   "outputs": [
    {
     "data": {
      "text/plain": [
       "0    1\n",
       "1    0\n",
       "2    0\n",
       "3    1\n",
       "4    0\n",
       "Name: Survived_1_year, dtype: int64"
      ]
     },
     "execution_count": 115,
     "metadata": {},
     "output_type": "execute_result"
    }
   ],
   "source": [
    "train['Survived_1_year'].head()"
   ]
  },
  {
   "cell_type": "code",
   "execution_count": 116,
   "metadata": {},
   "outputs": [],
   "source": [
    "from sklearn.model_selection import train_test_split"
   ]
  },
  {
   "cell_type": "code",
   "execution_count": 117,
   "metadata": {},
   "outputs": [],
   "source": [
    "X_train, X_test, y_train, y_test = train_test_split(train.drop('Survived_1_year',axis=1), \n",
    "                                                    train['Survived_1_year'], test_size=0.30, \n",
    "                                                    random_state=10)"
   ]
  },
  {
   "cell_type": "markdown",
   "metadata": {},
   "source": [
    "## Training and Predicting"
   ]
  },
  {
   "cell_type": "code",
   "execution_count": 118,
   "metadata": {},
   "outputs": [],
   "source": [
    "from sklearn.linear_model import LogisticRegression, PassiveAggressiveClassifier\n",
    "from sklearn.ensemble import RandomForestClassifier, GradientBoostingClassifier, AdaBoostClassifier\n",
    "from sklearn.tree import DecisionTreeClassifier\n",
    "from sklearn.svm import SVC\n",
    "from sklearn.neural_network import MLPClassifier\n",
    "from sklearn.discriminant_analysis import QuadraticDiscriminantAnalysis, LinearDiscriminantAnalysis\n",
    "# from sklearn.gaussian_process import GaussianProcessClassifier\n",
    "# from sklearn.gaussian_process.kernels import RBF\n",
    "from sklearn.multiclass import OutputCodeClassifier\n",
    "from sklearn.ensemble import BaggingClassifier\n",
    "from sklearn.linear_model import RidgeClassifier\n",
    "from sklearn.multioutput import ClassifierChain\n",
    "from sklearn.multioutput import MultiOutputClassifier\n",
    "from sklearn.linear_model import SGDClassifier\n",
    "from sklearn.neighbors import RadiusNeighborsClassifier"
   ]
  },
  {
   "cell_type": "code",
   "execution_count": 147,
   "metadata": {},
   "outputs": [
    {
     "data": {
      "text/plain": [
       "GradientBoostingClassifier(learning_rate=0.5, max_features=6, n_estimators=250)"
      ]
     },
     "execution_count": 147,
     "metadata": {},
     "output_type": "execute_result"
    }
   ],
   "source": [
    "logmodel = GradientBoostingClassifier(learning_rate=0.5, n_estimators=250, max_features=6)\n",
    "logmodel.fit(X_train,y_train)"
   ]
  },
  {
   "cell_type": "code",
   "execution_count": 148,
   "metadata": {},
   "outputs": [],
   "source": [
    "predictions = logmodel.predict(X_test)"
   ]
  },
  {
   "cell_type": "code",
   "execution_count": 149,
   "metadata": {},
   "outputs": [],
   "source": [
    "from sklearn.metrics import confusion_matrix"
   ]
  },
  {
   "cell_type": "code",
   "execution_count": 150,
   "metadata": {},
   "outputs": [],
   "source": [
    "accuracy=confusion_matrix(y_test,predictions)"
   ]
  },
  {
   "cell_type": "code",
   "execution_count": 151,
   "metadata": {},
   "outputs": [
    {
     "data": {
      "text/plain": [
       "array([[1516,  514],\n",
       "       [ 396, 3118]], dtype=int64)"
      ]
     },
     "execution_count": 151,
     "metadata": {},
     "output_type": "execute_result"
    }
   ],
   "source": [
    "accuracy"
   ]
  },
  {
   "cell_type": "code",
   "execution_count": 152,
   "metadata": {},
   "outputs": [],
   "source": [
    "from sklearn.metrics import accuracy_score"
   ]
  },
  {
   "cell_type": "code",
   "execution_count": 153,
   "metadata": {},
   "outputs": [
    {
     "data": {
      "text/plain": [
       "0.8358585858585859"
      ]
     },
     "execution_count": 153,
     "metadata": {},
     "output_type": "execute_result"
    }
   ],
   "source": [
    "accuracy=accuracy_score(y_test,predictions)\n",
    "accuracy"
   ]
  },
  {
   "cell_type": "code",
   "execution_count": 246,
   "metadata": {
    "scrolled": true
   },
   "outputs": [
    {
     "data": {
      "text/plain": [
       "array([0, 1, 0, ..., 0, 0, 0], dtype=int64)"
      ]
     },
     "execution_count": 246,
     "metadata": {},
     "output_type": "execute_result"
    }
   ],
   "source": [
    "predictions"
   ]
  },
  {
   "cell_type": "code",
   "execution_count": null,
   "metadata": {},
   "outputs": [
    {
     "name": "stdout",
     "output_type": "stream",
     "text": [
      "0.01 1 0.6401515151515151\n",
      "0.01 2 0.6675685425685426\n",
      "0.01 3 0.6917388167388168\n",
      "0.01 4 0.7085137085137085\n",
      "0.01 5 0.7306998556998557\n",
      "0.01 6 0.733044733044733\n",
      "0.01 7 0.7456709956709957\n",
      "0.01 8 0.7442279942279942\n",
      "0.01 9 0.7458513708513709\n",
      "0.1 1 0.7945526695526696\n",
      "0.1 2 0.8134920634920635\n",
      "0.1 3 0.8192640692640693\n",
      "0.1 4 0.8170995670995671\n",
      "0.1 5 0.8189033189033189\n",
      "0.1 6 0.8174603174603174\n",
      "0.1 7 0.8225108225108225\n",
      "0.1 8 0.8194444444444444\n",
      "0.1 9 0.8232323232323232\n",
      "0.2 1 0.8104256854256854\n",
      "0.2 2 0.825036075036075\n",
      "0.2 3 0.8252164502164502\n",
      "0.2 4 0.8302669552669553\n",
      "0.2 5 0.8275613275613276\n",
      "0.2 6 0.8299062049062049\n",
      "0.2 7 0.8241341991341992\n",
      "0.2 8 0.8264790764790765\n",
      "0.2 9 0.8255772005772006\n",
      "0.5 1 0.8253968253968254\n",
      "0.5 2 0.8302669552669553\n",
      "0.5 3 0.8234126984126984\n",
      "0.5 4 0.8329725829725829\n",
      "0.5 5 0.827020202020202\n",
      "0.5 6 0.8354978354978355\n",
      "0.5 7 0.8320707070707071\n",
      "0.5 8 0.8266594516594516\n",
      "0.5 9 0.8266594516594516\n",
      "0.55 1 0.8315295815295816\n",
      "0.55 2 0.8264790764790765\n",
      "0.55 3 0.8302669552669553\n",
      "0.55 4 0.827922077922078\n",
      "0.55 5 0.8304473304473304\n",
      "0.55 6 0.8308080808080808\n",
      "0.55 7 0.8295454545454546\n",
      "0.55 8 0.8295454545454546\n",
      "0.55 9 0.8331529581529582\n"
     ]
    }
   ],
   "source": [
    "rates = [0.01, 0.1, 0.2, 0.5, 0.55, 0.75, 1]\n",
    "scores = []\n",
    "for rate in rates:\n",
    "    for f in range(9):\n",
    "        logmodel = GradientBoostingClassifier(learning_rate=rate, max_features=f+1)\n",
    "        logmodel.fit(X_train,y_train)\n",
    "        predictions = logmodel.predict(X_test)\n",
    "        accuracy=accuracy_score(y_test,predictions)\n",
    "        scores.append(accuracy)\n",
    "        print(str(rate)+\" \"+str(f+1)+\" \"+str(accuracy))\n",
    "print(\"best: \"+str(max(scores)))"
   ]
  },
  {
   "cell_type": "markdown",
   "metadata": {},
   "source": [
    "## Evaluation"
   ]
  },
  {
   "cell_type": "code",
   "execution_count": 247,
   "metadata": {},
   "outputs": [],
   "source": [
    "from sklearn.metrics import classification_report"
   ]
  },
  {
   "cell_type": "code",
   "execution_count": 248,
   "metadata": {},
   "outputs": [
    {
     "name": "stdout",
     "output_type": "stream",
     "text": [
      "              precision    recall  f1-score   support\n",
      "\n",
      "           0       0.80      0.75      0.77      2063\n",
      "           1       0.85      0.89      0.87      3481\n",
      "\n",
      "    accuracy                           0.83      5544\n",
      "   macro avg       0.83      0.82      0.82      5544\n",
      "weighted avg       0.83      0.83      0.83      5544\n",
      "\n"
     ]
    }
   ],
   "source": [
    "print(classification_report(y_test,predictions))"
   ]
  },
  {
   "cell_type": "markdown",
   "metadata": {},
   "source": [
    "## Testing"
   ]
  },
  {
   "cell_type": "code",
   "execution_count": 249,
   "metadata": {},
   "outputs": [],
   "source": [
    "test = pd.read_csv(\"test.csv\")\n",
    "ids = test[\"ID_Patient_Care_Situation\"]"
   ]
  },
  {
   "cell_type": "code",
   "execution_count": 250,
   "metadata": {},
   "outputs": [
    {
     "data": {
      "text/html": [
       "<div>\n",
       "<style scoped>\n",
       "    .dataframe tbody tr th:only-of-type {\n",
       "        vertical-align: middle;\n",
       "    }\n",
       "\n",
       "    .dataframe tbody tr th {\n",
       "        vertical-align: top;\n",
       "    }\n",
       "\n",
       "    .dataframe thead th {\n",
       "        text-align: right;\n",
       "    }\n",
       "</style>\n",
       "<table border=\"1\" class=\"dataframe\">\n",
       "  <thead>\n",
       "    <tr style=\"text-align: right;\">\n",
       "      <th></th>\n",
       "      <th>ID_Patient_Care_Situation</th>\n",
       "      <th>Diagnosed_Condition</th>\n",
       "      <th>Patient_ID</th>\n",
       "      <th>Treated_with_drugs</th>\n",
       "      <th>Patient_Age</th>\n",
       "      <th>Patient_Body_Mass_Index</th>\n",
       "      <th>Patient_Smoker</th>\n",
       "      <th>Patient_Rural_Urban</th>\n",
       "      <th>Patient_mental_condition</th>\n",
       "      <th>A</th>\n",
       "      <th>B</th>\n",
       "      <th>C</th>\n",
       "      <th>D</th>\n",
       "      <th>E</th>\n",
       "      <th>F</th>\n",
       "      <th>Z</th>\n",
       "      <th>Number_of_prev_cond</th>\n",
       "    </tr>\n",
       "  </thead>\n",
       "  <tbody>\n",
       "    <tr>\n",
       "      <th>0</th>\n",
       "      <td>9913</td>\n",
       "      <td>2</td>\n",
       "      <td>10247</td>\n",
       "      <td>DX6</td>\n",
       "      <td>7</td>\n",
       "      <td>23.489639</td>\n",
       "      <td>NO</td>\n",
       "      <td>RURAL</td>\n",
       "      <td>Stable</td>\n",
       "      <td>1.0</td>\n",
       "      <td>0.0</td>\n",
       "      <td>1.0</td>\n",
       "      <td>1.0</td>\n",
       "      <td>1.0</td>\n",
       "      <td>0.0</td>\n",
       "      <td>0.0</td>\n",
       "      <td>4.0</td>\n",
       "    </tr>\n",
       "    <tr>\n",
       "      <th>1</th>\n",
       "      <td>20681</td>\n",
       "      <td>40</td>\n",
       "      <td>10919</td>\n",
       "      <td>DX6</td>\n",
       "      <td>66</td>\n",
       "      <td>21.941882</td>\n",
       "      <td>NO</td>\n",
       "      <td>URBAN</td>\n",
       "      <td>Stable</td>\n",
       "      <td>1.0</td>\n",
       "      <td>1.0</td>\n",
       "      <td>0.0</td>\n",
       "      <td>0.0</td>\n",
       "      <td>0.0</td>\n",
       "      <td>0.0</td>\n",
       "      <td>0.0</td>\n",
       "      <td>2.0</td>\n",
       "    </tr>\n",
       "    <tr>\n",
       "      <th>2</th>\n",
       "      <td>2264</td>\n",
       "      <td>18</td>\n",
       "      <td>5283</td>\n",
       "      <td>DX3</td>\n",
       "      <td>3</td>\n",
       "      <td>24.579787</td>\n",
       "      <td>NO</td>\n",
       "      <td>URBAN</td>\n",
       "      <td>Stable</td>\n",
       "      <td>1.0</td>\n",
       "      <td>0.0</td>\n",
       "      <td>0.0</td>\n",
       "      <td>0.0</td>\n",
       "      <td>0.0</td>\n",
       "      <td>0.0</td>\n",
       "      <td>0.0</td>\n",
       "      <td>1.0</td>\n",
       "    </tr>\n",
       "    <tr>\n",
       "      <th>3</th>\n",
       "      <td>21587</td>\n",
       "      <td>40</td>\n",
       "      <td>7442</td>\n",
       "      <td>DX1 DX4</td>\n",
       "      <td>9</td>\n",
       "      <td>17.832771</td>\n",
       "      <td>NO</td>\n",
       "      <td>URBAN</td>\n",
       "      <td>Stable</td>\n",
       "      <td>1.0</td>\n",
       "      <td>0.0</td>\n",
       "      <td>1.0</td>\n",
       "      <td>1.0</td>\n",
       "      <td>0.0</td>\n",
       "      <td>0.0</td>\n",
       "      <td>0.0</td>\n",
       "      <td>3.0</td>\n",
       "    </tr>\n",
       "    <tr>\n",
       "      <th>4</th>\n",
       "      <td>15876</td>\n",
       "      <td>46</td>\n",
       "      <td>3845</td>\n",
       "      <td>DX1 DX3</td>\n",
       "      <td>64</td>\n",
       "      <td>28.829848</td>\n",
       "      <td>YES</td>\n",
       "      <td>RURAL</td>\n",
       "      <td>Stable</td>\n",
       "      <td>1.0</td>\n",
       "      <td>0.0</td>\n",
       "      <td>0.0</td>\n",
       "      <td>0.0</td>\n",
       "      <td>1.0</td>\n",
       "      <td>0.0</td>\n",
       "      <td>0.0</td>\n",
       "      <td>2.0</td>\n",
       "    </tr>\n",
       "  </tbody>\n",
       "</table>\n",
       "</div>"
      ],
      "text/plain": [
       "   ID_Patient_Care_Situation  Diagnosed_Condition  Patient_ID  \\\n",
       "0                       9913                    2       10247   \n",
       "1                      20681                   40       10919   \n",
       "2                       2264                   18        5283   \n",
       "3                      21587                   40        7442   \n",
       "4                      15876                   46        3845   \n",
       "\n",
       "  Treated_with_drugs  Patient_Age  Patient_Body_Mass_Index Patient_Smoker  \\\n",
       "0                DX6            7                23.489639             NO   \n",
       "1                DX6           66                21.941882             NO   \n",
       "2               DX3             3                24.579787             NO   \n",
       "3           DX1 DX4             9                17.832771             NO   \n",
       "4           DX1 DX3            64                28.829848            YES   \n",
       "\n",
       "  Patient_Rural_Urban Patient_mental_condition    A    B    C    D    E    F  \\\n",
       "0               RURAL                   Stable  1.0  0.0  1.0  1.0  1.0  0.0   \n",
       "1               URBAN                   Stable  1.0  1.0  0.0  0.0  0.0  0.0   \n",
       "2               URBAN                   Stable  1.0  0.0  0.0  0.0  0.0  0.0   \n",
       "3               URBAN                   Stable  1.0  0.0  1.0  1.0  0.0  0.0   \n",
       "4               RURAL                   Stable  1.0  0.0  0.0  0.0  1.0  0.0   \n",
       "\n",
       "     Z  Number_of_prev_cond  \n",
       "0  0.0                  4.0  \n",
       "1  0.0                  2.0  \n",
       "2  0.0                  1.0  \n",
       "3  0.0                  3.0  \n",
       "4  0.0                  2.0  "
      ]
     },
     "execution_count": 250,
     "metadata": {},
     "output_type": "execute_result"
    }
   ],
   "source": [
    "test.head()"
   ]
  },
  {
   "cell_type": "code",
   "execution_count": 251,
   "metadata": {},
   "outputs": [],
   "source": [
    "test['A'] = test[['A']].apply(imputeA, axis=1)\n",
    "test['B'] = test[['B']].apply(imputeB, axis=1)\n",
    "test['C'] = test[['C']].apply(imputeC, axis=1)\n",
    "test['D'] = test[['D']].apply(imputeD, axis=1)\n",
    "test['E'] = test[['E']].apply(imputeE, axis=1)\n",
    "test['F'] = test[['F']].apply(imputeF, axis=1)\n",
    "test['Z'] = test[['Z']].apply(imputeZ, axis=1)\n",
    "test['Number_of_prev_cond'] = test[['Number_of_prev_cond', 'A', 'B', 'C', 'D', 'E', 'F', 'Z']].apply(imputeConditions, axis=1)"
   ]
  },
  {
   "cell_type": "code",
   "execution_count": 252,
   "metadata": {},
   "outputs": [],
   "source": [
    "# test.drop(['Patient_mental_condition', 'Patient_ID', 'ID_Patient_Care_Situation'],axis=1,inplace=True)\n",
    "test.drop(['Patient_mental_condition'],axis=1,inplace=True)\n",
    "isSmoker(test)\n",
    "ruralUrban = pd.get_dummies(test['Patient_Rural_Urban'],drop_first=True)\n",
    "test.drop(['Patient_Rural_Urban', 'Patient_Smoker'],axis=1,inplace=True)\n",
    "test = pd.concat([test, ruralUrban],axis=1)\n",
    "getDrug(test)\n",
    "test.drop('Treated_with_drugs',axis=1,inplace=True)"
   ]
  },
  {
   "cell_type": "code",
   "execution_count": 253,
   "metadata": {},
   "outputs": [
    {
     "data": {
      "text/html": [
       "<div>\n",
       "<style scoped>\n",
       "    .dataframe tbody tr th:only-of-type {\n",
       "        vertical-align: middle;\n",
       "    }\n",
       "\n",
       "    .dataframe tbody tr th {\n",
       "        vertical-align: top;\n",
       "    }\n",
       "\n",
       "    .dataframe thead th {\n",
       "        text-align: right;\n",
       "    }\n",
       "</style>\n",
       "<table border=\"1\" class=\"dataframe\">\n",
       "  <thead>\n",
       "    <tr style=\"text-align: right;\">\n",
       "      <th></th>\n",
       "      <th>ID_Patient_Care_Situation</th>\n",
       "      <th>Diagnosed_Condition</th>\n",
       "      <th>Patient_ID</th>\n",
       "      <th>Patient_Age</th>\n",
       "      <th>Patient_Body_Mass_Index</th>\n",
       "      <th>A</th>\n",
       "      <th>B</th>\n",
       "      <th>C</th>\n",
       "      <th>D</th>\n",
       "      <th>E</th>\n",
       "      <th>...</th>\n",
       "      <th>Z</th>\n",
       "      <th>Number_of_prev_cond</th>\n",
       "      <th>Smoker</th>\n",
       "      <th>URBAN</th>\n",
       "      <th>DX1</th>\n",
       "      <th>DX2</th>\n",
       "      <th>DX3</th>\n",
       "      <th>DX4</th>\n",
       "      <th>DX5</th>\n",
       "      <th>DX6</th>\n",
       "    </tr>\n",
       "  </thead>\n",
       "  <tbody>\n",
       "    <tr>\n",
       "      <th>0</th>\n",
       "      <td>9913</td>\n",
       "      <td>2</td>\n",
       "      <td>10247</td>\n",
       "      <td>7</td>\n",
       "      <td>23.489639</td>\n",
       "      <td>1.0</td>\n",
       "      <td>0.0</td>\n",
       "      <td>1.0</td>\n",
       "      <td>1.0</td>\n",
       "      <td>1.0</td>\n",
       "      <td>...</td>\n",
       "      <td>0.0</td>\n",
       "      <td>4.0</td>\n",
       "      <td>0</td>\n",
       "      <td>0</td>\n",
       "      <td>0</td>\n",
       "      <td>0</td>\n",
       "      <td>0</td>\n",
       "      <td>0</td>\n",
       "      <td>0</td>\n",
       "      <td>1</td>\n",
       "    </tr>\n",
       "    <tr>\n",
       "      <th>1</th>\n",
       "      <td>20681</td>\n",
       "      <td>40</td>\n",
       "      <td>10919</td>\n",
       "      <td>66</td>\n",
       "      <td>21.941882</td>\n",
       "      <td>1.0</td>\n",
       "      <td>1.0</td>\n",
       "      <td>0.0</td>\n",
       "      <td>0.0</td>\n",
       "      <td>0.0</td>\n",
       "      <td>...</td>\n",
       "      <td>0.0</td>\n",
       "      <td>2.0</td>\n",
       "      <td>0</td>\n",
       "      <td>1</td>\n",
       "      <td>0</td>\n",
       "      <td>0</td>\n",
       "      <td>0</td>\n",
       "      <td>0</td>\n",
       "      <td>0</td>\n",
       "      <td>1</td>\n",
       "    </tr>\n",
       "    <tr>\n",
       "      <th>2</th>\n",
       "      <td>2264</td>\n",
       "      <td>18</td>\n",
       "      <td>5283</td>\n",
       "      <td>3</td>\n",
       "      <td>24.579787</td>\n",
       "      <td>1.0</td>\n",
       "      <td>0.0</td>\n",
       "      <td>0.0</td>\n",
       "      <td>0.0</td>\n",
       "      <td>0.0</td>\n",
       "      <td>...</td>\n",
       "      <td>0.0</td>\n",
       "      <td>1.0</td>\n",
       "      <td>0</td>\n",
       "      <td>1</td>\n",
       "      <td>0</td>\n",
       "      <td>0</td>\n",
       "      <td>1</td>\n",
       "      <td>0</td>\n",
       "      <td>0</td>\n",
       "      <td>0</td>\n",
       "    </tr>\n",
       "    <tr>\n",
       "      <th>3</th>\n",
       "      <td>21587</td>\n",
       "      <td>40</td>\n",
       "      <td>7442</td>\n",
       "      <td>9</td>\n",
       "      <td>17.832771</td>\n",
       "      <td>1.0</td>\n",
       "      <td>0.0</td>\n",
       "      <td>1.0</td>\n",
       "      <td>1.0</td>\n",
       "      <td>0.0</td>\n",
       "      <td>...</td>\n",
       "      <td>0.0</td>\n",
       "      <td>3.0</td>\n",
       "      <td>0</td>\n",
       "      <td>1</td>\n",
       "      <td>1</td>\n",
       "      <td>0</td>\n",
       "      <td>0</td>\n",
       "      <td>1</td>\n",
       "      <td>0</td>\n",
       "      <td>0</td>\n",
       "    </tr>\n",
       "    <tr>\n",
       "      <th>4</th>\n",
       "      <td>15876</td>\n",
       "      <td>46</td>\n",
       "      <td>3845</td>\n",
       "      <td>64</td>\n",
       "      <td>28.829848</td>\n",
       "      <td>1.0</td>\n",
       "      <td>0.0</td>\n",
       "      <td>0.0</td>\n",
       "      <td>0.0</td>\n",
       "      <td>1.0</td>\n",
       "      <td>...</td>\n",
       "      <td>0.0</td>\n",
       "      <td>2.0</td>\n",
       "      <td>1</td>\n",
       "      <td>0</td>\n",
       "      <td>1</td>\n",
       "      <td>0</td>\n",
       "      <td>1</td>\n",
       "      <td>0</td>\n",
       "      <td>0</td>\n",
       "      <td>0</td>\n",
       "    </tr>\n",
       "  </tbody>\n",
       "</table>\n",
       "<p>5 rows × 21 columns</p>\n",
       "</div>"
      ],
      "text/plain": [
       "   ID_Patient_Care_Situation  Diagnosed_Condition  Patient_ID  Patient_Age  \\\n",
       "0                       9913                    2       10247            7   \n",
       "1                      20681                   40       10919           66   \n",
       "2                       2264                   18        5283            3   \n",
       "3                      21587                   40        7442            9   \n",
       "4                      15876                   46        3845           64   \n",
       "\n",
       "   Patient_Body_Mass_Index    A    B    C    D    E  ...    Z  \\\n",
       "0                23.489639  1.0  0.0  1.0  1.0  1.0  ...  0.0   \n",
       "1                21.941882  1.0  1.0  0.0  0.0  0.0  ...  0.0   \n",
       "2                24.579787  1.0  0.0  0.0  0.0  0.0  ...  0.0   \n",
       "3                17.832771  1.0  0.0  1.0  1.0  0.0  ...  0.0   \n",
       "4                28.829848  1.0  0.0  0.0  0.0  1.0  ...  0.0   \n",
       "\n",
       "   Number_of_prev_cond  Smoker  URBAN  DX1  DX2  DX3  DX4  DX5  DX6  \n",
       "0                  4.0       0      0    0    0    0    0    0    1  \n",
       "1                  2.0       0      1    0    0    0    0    0    1  \n",
       "2                  1.0       0      1    0    0    1    0    0    0  \n",
       "3                  3.0       0      1    1    0    0    1    0    0  \n",
       "4                  2.0       1      0    1    0    1    0    0    0  \n",
       "\n",
       "[5 rows x 21 columns]"
      ]
     },
     "execution_count": 253,
     "metadata": {},
     "output_type": "execute_result"
    }
   ],
   "source": [
    "test.head()"
   ]
  },
  {
   "cell_type": "code",
   "execution_count": 254,
   "metadata": {},
   "outputs": [],
   "source": [
    "predictions = logmodel.predict(test)"
   ]
  },
  {
   "cell_type": "code",
   "execution_count": 255,
   "metadata": {},
   "outputs": [
    {
     "data": {
      "text/plain": [
       "array([1, 0, 1, ..., 0, 0, 1], dtype=int64)"
      ]
     },
     "execution_count": 255,
     "metadata": {},
     "output_type": "execute_result"
    }
   ],
   "source": [
    "predictions"
   ]
  },
  {
   "cell_type": "code",
   "execution_count": 256,
   "metadata": {},
   "outputs": [],
   "source": [
    "test[\"Survived_1_year\"] =  predictions"
   ]
  },
  {
   "cell_type": "code",
   "execution_count": 257,
   "metadata": {},
   "outputs": [
    {
     "data": {
      "text/html": [
       "<div>\n",
       "<style scoped>\n",
       "    .dataframe tbody tr th:only-of-type {\n",
       "        vertical-align: middle;\n",
       "    }\n",
       "\n",
       "    .dataframe tbody tr th {\n",
       "        vertical-align: top;\n",
       "    }\n",
       "\n",
       "    .dataframe thead th {\n",
       "        text-align: right;\n",
       "    }\n",
       "</style>\n",
       "<table border=\"1\" class=\"dataframe\">\n",
       "  <thead>\n",
       "    <tr style=\"text-align: right;\">\n",
       "      <th></th>\n",
       "      <th>ID_Patient_Care_Situation</th>\n",
       "      <th>Diagnosed_Condition</th>\n",
       "      <th>Patient_ID</th>\n",
       "      <th>Patient_Age</th>\n",
       "      <th>Patient_Body_Mass_Index</th>\n",
       "      <th>A</th>\n",
       "      <th>B</th>\n",
       "      <th>C</th>\n",
       "      <th>D</th>\n",
       "      <th>E</th>\n",
       "      <th>...</th>\n",
       "      <th>Number_of_prev_cond</th>\n",
       "      <th>Smoker</th>\n",
       "      <th>URBAN</th>\n",
       "      <th>DX1</th>\n",
       "      <th>DX2</th>\n",
       "      <th>DX3</th>\n",
       "      <th>DX4</th>\n",
       "      <th>DX5</th>\n",
       "      <th>DX6</th>\n",
       "      <th>Survived_1_year</th>\n",
       "    </tr>\n",
       "  </thead>\n",
       "  <tbody>\n",
       "    <tr>\n",
       "      <th>0</th>\n",
       "      <td>9913</td>\n",
       "      <td>2</td>\n",
       "      <td>10247</td>\n",
       "      <td>7</td>\n",
       "      <td>23.489639</td>\n",
       "      <td>1.0</td>\n",
       "      <td>0.0</td>\n",
       "      <td>1.0</td>\n",
       "      <td>1.0</td>\n",
       "      <td>1.0</td>\n",
       "      <td>...</td>\n",
       "      <td>4.0</td>\n",
       "      <td>0</td>\n",
       "      <td>0</td>\n",
       "      <td>0</td>\n",
       "      <td>0</td>\n",
       "      <td>0</td>\n",
       "      <td>0</td>\n",
       "      <td>0</td>\n",
       "      <td>1</td>\n",
       "      <td>1</td>\n",
       "    </tr>\n",
       "    <tr>\n",
       "      <th>1</th>\n",
       "      <td>20681</td>\n",
       "      <td>40</td>\n",
       "      <td>10919</td>\n",
       "      <td>66</td>\n",
       "      <td>21.941882</td>\n",
       "      <td>1.0</td>\n",
       "      <td>1.0</td>\n",
       "      <td>0.0</td>\n",
       "      <td>0.0</td>\n",
       "      <td>0.0</td>\n",
       "      <td>...</td>\n",
       "      <td>2.0</td>\n",
       "      <td>0</td>\n",
       "      <td>1</td>\n",
       "      <td>0</td>\n",
       "      <td>0</td>\n",
       "      <td>0</td>\n",
       "      <td>0</td>\n",
       "      <td>0</td>\n",
       "      <td>1</td>\n",
       "      <td>0</td>\n",
       "    </tr>\n",
       "    <tr>\n",
       "      <th>2</th>\n",
       "      <td>2264</td>\n",
       "      <td>18</td>\n",
       "      <td>5283</td>\n",
       "      <td>3</td>\n",
       "      <td>24.579787</td>\n",
       "      <td>1.0</td>\n",
       "      <td>0.0</td>\n",
       "      <td>0.0</td>\n",
       "      <td>0.0</td>\n",
       "      <td>0.0</td>\n",
       "      <td>...</td>\n",
       "      <td>1.0</td>\n",
       "      <td>0</td>\n",
       "      <td>1</td>\n",
       "      <td>0</td>\n",
       "      <td>0</td>\n",
       "      <td>1</td>\n",
       "      <td>0</td>\n",
       "      <td>0</td>\n",
       "      <td>0</td>\n",
       "      <td>1</td>\n",
       "    </tr>\n",
       "    <tr>\n",
       "      <th>3</th>\n",
       "      <td>21587</td>\n",
       "      <td>40</td>\n",
       "      <td>7442</td>\n",
       "      <td>9</td>\n",
       "      <td>17.832771</td>\n",
       "      <td>1.0</td>\n",
       "      <td>0.0</td>\n",
       "      <td>1.0</td>\n",
       "      <td>1.0</td>\n",
       "      <td>0.0</td>\n",
       "      <td>...</td>\n",
       "      <td>3.0</td>\n",
       "      <td>0</td>\n",
       "      <td>1</td>\n",
       "      <td>1</td>\n",
       "      <td>0</td>\n",
       "      <td>0</td>\n",
       "      <td>1</td>\n",
       "      <td>0</td>\n",
       "      <td>0</td>\n",
       "      <td>1</td>\n",
       "    </tr>\n",
       "    <tr>\n",
       "      <th>4</th>\n",
       "      <td>15876</td>\n",
       "      <td>46</td>\n",
       "      <td>3845</td>\n",
       "      <td>64</td>\n",
       "      <td>28.829848</td>\n",
       "      <td>1.0</td>\n",
       "      <td>0.0</td>\n",
       "      <td>0.0</td>\n",
       "      <td>0.0</td>\n",
       "      <td>1.0</td>\n",
       "      <td>...</td>\n",
       "      <td>2.0</td>\n",
       "      <td>1</td>\n",
       "      <td>0</td>\n",
       "      <td>1</td>\n",
       "      <td>0</td>\n",
       "      <td>1</td>\n",
       "      <td>0</td>\n",
       "      <td>0</td>\n",
       "      <td>0</td>\n",
       "      <td>0</td>\n",
       "    </tr>\n",
       "  </tbody>\n",
       "</table>\n",
       "<p>5 rows × 22 columns</p>\n",
       "</div>"
      ],
      "text/plain": [
       "   ID_Patient_Care_Situation  Diagnosed_Condition  Patient_ID  Patient_Age  \\\n",
       "0                       9913                    2       10247            7   \n",
       "1                      20681                   40       10919           66   \n",
       "2                       2264                   18        5283            3   \n",
       "3                      21587                   40        7442            9   \n",
       "4                      15876                   46        3845           64   \n",
       "\n",
       "   Patient_Body_Mass_Index    A    B    C    D    E  ...  Number_of_prev_cond  \\\n",
       "0                23.489639  1.0  0.0  1.0  1.0  1.0  ...                  4.0   \n",
       "1                21.941882  1.0  1.0  0.0  0.0  0.0  ...                  2.0   \n",
       "2                24.579787  1.0  0.0  0.0  0.0  0.0  ...                  1.0   \n",
       "3                17.832771  1.0  0.0  1.0  1.0  0.0  ...                  3.0   \n",
       "4                28.829848  1.0  0.0  0.0  0.0  1.0  ...                  2.0   \n",
       "\n",
       "   Smoker  URBAN  DX1  DX2  DX3  DX4  DX5  DX6  Survived_1_year  \n",
       "0       0      0    0    0    0    0    0    1                1  \n",
       "1       0      1    0    0    0    0    0    1                0  \n",
       "2       0      1    0    0    1    0    0    0                1  \n",
       "3       0      1    1    0    0    1    0    0                1  \n",
       "4       1      0    1    0    1    0    0    0                0  \n",
       "\n",
       "[5 rows x 22 columns]"
      ]
     },
     "execution_count": 257,
     "metadata": {},
     "output_type": "execute_result"
    }
   ],
   "source": [
    "test.head()"
   ]
  },
  {
   "cell_type": "code",
   "execution_count": 258,
   "metadata": {},
   "outputs": [
    {
     "data": {
      "text/html": [
       "<div>\n",
       "<style scoped>\n",
       "    .dataframe tbody tr th:only-of-type {\n",
       "        vertical-align: middle;\n",
       "    }\n",
       "\n",
       "    .dataframe tbody tr th {\n",
       "        vertical-align: top;\n",
       "    }\n",
       "\n",
       "    .dataframe thead th {\n",
       "        text-align: right;\n",
       "    }\n",
       "</style>\n",
       "<table border=\"1\" class=\"dataframe\">\n",
       "  <thead>\n",
       "    <tr style=\"text-align: right;\">\n",
       "      <th></th>\n",
       "      <th>ID_Patient_Care_Situation</th>\n",
       "      <th>Survived_1_year</th>\n",
       "    </tr>\n",
       "  </thead>\n",
       "  <tbody>\n",
       "    <tr>\n",
       "      <th>0</th>\n",
       "      <td>9913</td>\n",
       "      <td>1</td>\n",
       "    </tr>\n",
       "    <tr>\n",
       "      <th>1</th>\n",
       "      <td>20681</td>\n",
       "      <td>0</td>\n",
       "    </tr>\n",
       "    <tr>\n",
       "      <th>2</th>\n",
       "      <td>2264</td>\n",
       "      <td>1</td>\n",
       "    </tr>\n",
       "    <tr>\n",
       "      <th>3</th>\n",
       "      <td>21587</td>\n",
       "      <td>1</td>\n",
       "    </tr>\n",
       "    <tr>\n",
       "      <th>4</th>\n",
       "      <td>15876</td>\n",
       "      <td>0</td>\n",
       "    </tr>\n",
       "  </tbody>\n",
       "</table>\n",
       "</div>"
      ],
      "text/plain": [
       "   ID_Patient_Care_Situation  Survived_1_year\n",
       "0                       9913                1\n",
       "1                      20681                0\n",
       "2                       2264                1\n",
       "3                      21587                1\n",
       "4                      15876                0"
      ]
     },
     "execution_count": 258,
     "metadata": {},
     "output_type": "execute_result"
    }
   ],
   "source": [
    "submission = pd.DataFrame()\n",
    "submission[\"ID_Patient_Care_Situation\"] = ids\n",
    "submission[\"Survived_1_year\"] = test[\"Survived_1_year\"]\n",
    "submission.head()"
   ]
  },
  {
   "cell_type": "code",
   "execution_count": 259,
   "metadata": {},
   "outputs": [],
   "source": [
    "name = \"submission_13.csv\"\n",
    "submission.to_csv(name, index=False)"
   ]
  }
 ],
 "metadata": {
  "kernelspec": {
   "display_name": "Python 3",
   "language": "python",
   "name": "python3"
  },
  "language_info": {
   "codemirror_mode": {
    "name": "ipython",
    "version": 3
   },
   "file_extension": ".py",
   "mimetype": "text/x-python",
   "name": "python",
   "nbconvert_exporter": "python",
   "pygments_lexer": "ipython3",
   "version": "3.8.5"
  }
 },
 "nbformat": 4,
 "nbformat_minor": 4
}
